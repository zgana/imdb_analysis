{
 "cells": [
  {
   "cell_type": "markdown",
   "metadata": {},
   "source": [
    "# Recommendations Engine — Movie Metadata and Reviews"
   ]
  },
  {
   "cell_type": "markdown",
   "metadata": {},
   "source": [
    "Michael Richman <br/>\n",
    "mike.d.richman@gmail.com <br/>\n",
    "http://github.com/zgana\n",
    "\n",
    "In this notebook, we build and test movie recommenders using movie metadata from IMDb, as well as the 100k IMDb movie reviews dataset and additional data acquired from Movie Lens.\n",
    "\n",
    "**Contents:**\n",
    "\n",
    "* [Tools](#Tools)\n",
    "* [Dataset introduction](#Dataset-introduction)\n",
    "* [Data load](#Data-load)\n",
    "* [Data cleaning and merging](#Data-cleaning-and-merging)\n",
    "* [Initial exploration](#Initial-exploration)\n",
    "* [Similarity models](#Similarity-models)\n",
    "* [Recommender — reviewed movies only](#Recommender-—-reviewed-movies-only)\n",
    "* [MovieLens user data](#MovieLens-user-data)\n",
    "* [Quantifying recommender performance](#Quantifying-recommender-performance)\n",
    "* [Collaborative filtering](#Collaborative-filtering)\n",
    "* [Conclusions](#Conclusions)"
   ]
  },
  {
   "cell_type": "markdown",
   "metadata": {},
   "source": [
    "## Tools"
   ]
  },
  {
   "cell_type": "code",
   "execution_count": 1,
   "metadata": {},
   "outputs": [],
   "source": [
    "# standard library\n",
    "from collections import defaultdict, Counter\n",
    "import datetime\n",
    "import itertools\n",
    "import os\n",
    "import re\n",
    "import string\n",
    "import sys\n",
    "import textwrap\n",
    "\n",
    "# scientific stack\n",
    "import numpy as np\n",
    "import matplotlib.pyplot as plt\n",
    "import pandas as pd\n",
    "from scipy import sparse\n",
    "\n",
    "# markup parsing\n",
    "from bs4 import BeautifulSoup\n",
    "\n",
    "# unicode simplification\n",
    "from unidecode import unidecode\n",
    "\n",
    "# TF-IDF word vector weighting\n",
    "from sklearn.feature_extraction.text import TfidfVectorizer\n",
    "from sklearn.metrics.pairwise import cosine_similarity, euclidean_distances\n",
    "\n",
    "# Personal histogram / kernel density estimate tool\n",
    "# https://histlite.readthedocs.io/\n",
    "import histlite as hl\n",
    "\n",
    "%matplotlib inline"
   ]
  },
  {
   "cell_type": "code",
   "execution_count": 2,
   "metadata": {},
   "outputs": [],
   "source": [
    "plt.rc('figure', dpi=100)"
   ]
  },
  {
   "cell_type": "code",
   "execution_count": 3,
   "metadata": {},
   "outputs": [],
   "source": [
    "def prush(*a, **kw):\n",
    "    \"\"\"Print, and immediately flush for prompt progress updates.\"\"\"\n",
    "    print(*a, **kw)\n",
    "    sys.stdout.flush()"
   ]
  },
  {
   "cell_type": "code",
   "execution_count": 4,
   "metadata": {},
   "outputs": [],
   "source": [
    "def pfill(s, width=90):\n",
    "    \"\"\"Print string with text wrapping.\"\"\"\n",
    "    print(textwrap.fill(s, width=width))"
   ]
  },
  {
   "cell_type": "markdown",
   "metadata": {},
   "source": [
    "## Dataset introduction"
   ]
  },
  {
   "cell_type": "markdown",
   "metadata": {},
   "source": [
    "**Movie Metadata (IMDb)**\n",
    "\n",
    "The primary dataset for this project comes directly from IMDb at\n",
    "\n",
    "https://datasets.imdbws.com/.\n",
    "\n",
    "Conditions for use of this dataset are laid out at https://www.imdb.com/conditions, and include a provision that commercial use requires licensing through their licensing department as described here: https://www.imdb.com/licensing/.\n",
    "\n",
    "\n",
    "**Movie Reviews (IMDb)**\n",
    "\n",
    "We will also make use of the 100k movie reviews dataset, accessed at\n",
    "\n",
    "https://ai.stanford.edu/~amaas/data/sentiment/,\n",
    "\n",
    "and first introduced in\n",
    "\n",
    "https://www.aclweb.org/anthology/P11-1015.\n",
    "\n",
    "\n",
    "**User Ratings (MovieLens)**\n",
    "\n",
    "Finally, while this is not strictly required by the framing of the problem (\"use IMDb data to build a recommendations engine\"), it seems best to perform some sort of performance metrics on the system.  For this, we need ratings from specific users in order to test whether our recommendations are appropriate.  Such data does not appear to be readily available from IMDb, so instead we look to MovieLens.  There we find ~20M ratings by anonymized users, each of whom have rated at least 20 movies.\n",
    "\n",
    "http://files.grouplens.org/datasets/movielens/ml-20m-README.html"
   ]
  },
  {
   "cell_type": "markdown",
   "metadata": {},
   "source": [
    "## Data load"
   ]
  },
  {
   "cell_type": "markdown",
   "metadata": {},
   "source": [
    "We begin by loading information about all titles in the dataset, including movies, TV shows, etc."
   ]
  },
  {
   "cell_type": "code",
   "execution_count": 5,
   "metadata": {},
   "outputs": [],
   "source": [
    "DATA_PATH = '/data/condor_builds/users/richman/data/'\n",
    "# metadata\n",
    "METADATA_PATH = os.path.join(DATA_PATH, 'imdb_metadata')\n",
    "# reviews\n",
    "REVIEW_PATH = os.path.join(DATA_PATH, 'aclImdb')\n",
    "TRAIN_PATH = os.path.join(REVIEW_PATH, 'train')\n",
    "TEST_PATH = os.path.join(REVIEW_PATH, 'test')\n",
    "UNSUP_PATH = os.path.join(TRAIN_PATH, 'unsup')"
   ]
  },
  {
   "cell_type": "code",
   "execution_count": 6,
   "metadata": {},
   "outputs": [],
   "source": [
    "def load_movie_data(table_name, index='tconst', index_to_int=True):\n",
    "    \"\"\"Load a data table, optionally setting the index.\"\"\"\n",
    "    out = pd.read_table(os.path.join(METADATA_PATH, f'{table_name}.tsv.gz'))\n",
    "    if index:\n",
    "        if index_to_int:\n",
    "            out[index] = [int(i[2:]) for i in out[index]]\n",
    "        out = out.set_index(index)\n",
    "    return out"
   ]
  },
  {
   "cell_type": "code",
   "execution_count": 7,
   "metadata": {},
   "outputs": [],
   "source": [
    "def clean_text(text):\n",
    "    \"\"\"Strip HTML tags with BeautifulSoup.\"\"\"\n",
    "    return BeautifulSoup(text, 'lxml').get_text()"
   ]
  },
  {
   "cell_type": "code",
   "execution_count": 8,
   "metadata": {},
   "outputs": [],
   "source": [
    "def load_sup_dataset(path, max=np.inf):\n",
    "    \"\"\"Load pos/neg divided reviews from train or test dir.\"\"\"\n",
    "    texts = []\n",
    "    ratings = []\n",
    "    posnegs = []\n",
    "    acl_indexs = []\n",
    "    \n",
    "    filename_pattern = re.compile(r'^(\\d+)_(\\d+).txt')\n",
    "    for (i_sent, sent) in enumerate(['neg', 'pos']):\n",
    "        prush(f'Reading {sent} ...')\n",
    "        sent_path = os.path.join(path, sent)\n",
    "        for (i, filename) in enumerate(sorted(os.listdir(sent_path))):\n",
    "            if not i % 2000:\n",
    "                prush(f'\\r{i} ...', end='')\n",
    "            m = filename_pattern.match(filename)\n",
    "            acl_index, rating = int(m[1]), int(m[2])\n",
    "            abs_filename = os.path.join(sent_path, filename)\n",
    "            with open(abs_filename) as f:\n",
    "                text = clean_text(f.read())\n",
    "            texts.append(text)\n",
    "            ratings.append(rating)\n",
    "            posnegs.append(i_sent)\n",
    "            acl_indexs.append(acl_index)\n",
    "            if i >= max:\n",
    "                break\n",
    "        prush()\n",
    "    # organize in dataframe; sort according to authors' indexing\n",
    "    reviews = pd.DataFrame(dict(rating=ratings, pos=posnegs, text=texts, acl_index=acl_indexs))\n",
    "    reviews.sort_values('acl_index', inplace=True)\n",
    "    reviews = pd.concat((reviews[reviews.pos.values==0], reviews[reviews.pos.values==1]))\n",
    "    return reviews"
   ]
  },
  {
   "cell_type": "code",
   "execution_count": 9,
   "metadata": {},
   "outputs": [],
   "source": [
    "def load_unsup_dataset(path, max=np.inf):\n",
    "    \"\"\"Load reviews for unsupervised learning.\"\"\"\n",
    "    texts = []\n",
    "    acl_indexs = []\n",
    "    filename_pattern = re.compile(r'^(\\d+)_\\d+.txt')\n",
    "    for (i, filename) in enumerate(sorted(os.listdir(path))):\n",
    "        if not i % 10000:\n",
    "            prush(f'\\r{i} ...', end='')\n",
    "        m = filename_pattern.match(filename)\n",
    "        acl_index = int(m[1])\n",
    "        abs_filename = os.path.join(path, filename)\n",
    "        with open(abs_filename) as f:\n",
    "            text = clean_text(f.read())\n",
    "        texts.append(text)\n",
    "        acl_indexs.append(acl_index)\n",
    "        if i >= max:\n",
    "            break\n",
    "    prush()\n",
    "    # organize in dataframe; sort according to authors' indexing\n",
    "    reviews = pd.DataFrame(dict(text=np.array(texts), acl_index=np.array(acl_indexs)))\n",
    "    reviews.sort_values('acl_index', inplace=True)\n",
    "    return reviews"
   ]
  },
  {
   "cell_type": "code",
   "execution_count": 10,
   "metadata": {},
   "outputs": [
    {
     "name": "stderr",
     "output_type": "stream",
     "text": [
      "/cvmfs/icecube.opensciencegrid.org/py3-v4.0.1/Ubuntu_18.04_x86_64/lib/python3.6/site-packages/IPython/core/interactiveshell.py:2901: DtypeWarning: Columns (5) have mixed types. Specify dtype option on import or set low_memory=False.\n",
      "  if self.run_code(code, result):\n"
     ]
    }
   ],
   "source": [
    "# kind, year, genre, etc.\n",
    "basics = load_movie_data('title.basics')"
   ]
  },
  {
   "cell_type": "code",
   "execution_count": 11,
   "metadata": {},
   "outputs": [],
   "source": [
    "# ratings\n",
    "ratings = load_movie_data('title.ratings')"
   ]
  },
  {
   "cell_type": "code",
   "execution_count": 12,
   "metadata": {},
   "outputs": [],
   "source": [
    "# directors, writers\n",
    "crew = load_movie_data('title.crew')"
   ]
  },
  {
   "cell_type": "code",
   "execution_count": 13,
   "metadata": {},
   "outputs": [],
   "source": [
    "# people\n",
    "people = load_movie_data('name.basics', index='nconst')"
   ]
  },
  {
   "cell_type": "code",
   "execution_count": 14,
   "metadata": {},
   "outputs": [],
   "source": [
    "# name-id's of key individuals\n",
    "principals = load_movie_data('title.principals')"
   ]
  },
  {
   "cell_type": "markdown",
   "metadata": {},
   "source": [
    "We don't want TV shows, shorts, etc., and we'll err on the side of caution by immediately filtering out any \"adult\" entries:"
   ]
  },
  {
   "cell_type": "code",
   "execution_count": 15,
   "metadata": {},
   "outputs": [],
   "source": [
    "wanted_titles = (basics.titleType == 'movie') & (basics.isAdult == 0)\n",
    "movie_basics = basics[wanted_titles].drop(columns=['titleType', 'isAdult'])"
   ]
  },
  {
   "cell_type": "markdown",
   "metadata": {},
   "source": [
    "We massage the `principals` data a bit in preparation for inclusion into the master table."
   ]
  },
  {
   "cell_type": "code",
   "execution_count": 16,
   "metadata": {},
   "outputs": [
    {
     "name": "stdout",
     "output_type": "stream",
     "text": [
      "Parsing principals table...\n",
      "  35400000 ..."
     ]
    }
   ],
   "source": [
    "princ_dict = defaultdict(list)\n",
    "prush('Parsing principals table...')\n",
    "for (i, (tconst, nconst)) in enumerate(zip(principals.index, principals['nconst'].values)):\n",
    "    if not i % 100_000:\n",
    "        prush(f'\\r{i:10d} ...', end='')\n",
    "        sys.stdout.flush()\n",
    "    if tconst in movie_basics.index:\n",
    "        princ_dict[tconst].append(int(nconst[2:]))"
   ]
  },
  {
   "cell_type": "code",
   "execution_count": 17,
   "metadata": {},
   "outputs": [],
   "source": [
    "del principals"
   ]
  },
  {
   "cell_type": "markdown",
   "metadata": {},
   "source": [
    "We'll also load up ALL of the available reviews.  I see no reason to withold any testing data here, since our metrics will be based on unrelated MovieLens data."
   ]
  },
  {
   "cell_type": "code",
   "execution_count": 18,
   "metadata": {},
   "outputs": [
    {
     "name": "stdout",
     "output_type": "stream",
     "text": [
      "Reading neg ...\n",
      "12000 ...\n",
      "Reading pos ...\n",
      "12000 ...\n",
      "CPU times: user 14 s, sys: 1.6 s, total: 15.6 s\n",
      "Wall time: 24 s\n"
     ]
    }
   ],
   "source": [
    "%time reviews_train = load_sup_dataset(TRAIN_PATH)"
   ]
  },
  {
   "cell_type": "code",
   "execution_count": 19,
   "metadata": {},
   "outputs": [
    {
     "name": "stdout",
     "output_type": "stream",
     "text": [
      "Reading neg ...\n",
      "12000 ...\n",
      "Reading pos ...\n",
      "12000 ...\n",
      "CPU times: user 13.8 s, sys: 1.62 s, total: 15.4 s\n",
      "Wall time: 24.3 s\n"
     ]
    }
   ],
   "source": [
    "%time reviews_test = load_sup_dataset(TEST_PATH)"
   ]
  },
  {
   "cell_type": "code",
   "execution_count": 20,
   "metadata": {},
   "outputs": [
    {
     "name": "stdout",
     "output_type": "stream",
     "text": [
      "40000 ...\n",
      "CPU times: user 26.5 s, sys: 4.48 s, total: 31 s\n",
      "Wall time: 48.5 s\n"
     ]
    }
   ],
   "source": [
    "%time reviews_unsup = load_unsup_dataset(UNSUP_PATH)"
   ]
  },
  {
   "cell_type": "markdown",
   "metadata": {},
   "source": [
    "That's just the reviews; next we parse their URLs in order to line them up with the correct movies."
   ]
  },
  {
   "cell_type": "code",
   "execution_count": 21,
   "metadata": {},
   "outputs": [],
   "source": [
    "def read_tconsts(filename):\n",
    "    urls = np.genfromtxt(filename, dtype=str)\n",
    "    regex_url = re.compile(r'.*tt(\\d+)/.*')\n",
    "    return np.array([int(re.sub(regex_url, r'\\1', u)) for u in urls])\n",
    "    \n",
    "neg_tconst = read_tconsts(os.path.join(TRAIN_PATH, 'urls_neg.txt'))\n",
    "pos_tconst = read_tconsts(os.path.join(TRAIN_PATH, 'urls_pos.txt'))\n",
    "train_tconst = np.concatenate((neg_tconst, pos_tconst))\n",
    "\n",
    "neg_tconst = read_tconsts(os.path.join(TEST_PATH, 'urls_neg.txt'))\n",
    "pos_tconst = read_tconsts(os.path.join(TEST_PATH, 'urls_pos.txt'))\n",
    "test_tconst = np.concatenate((neg_tconst, pos_tconst))\n",
    "\n",
    "unsup_tconst = read_tconsts(os.path.join(TRAIN_PATH, 'urls_unsup.txt'))"
   ]
  },
  {
   "cell_type": "code",
   "execution_count": 22,
   "metadata": {},
   "outputs": [],
   "source": [
    "all_texts = np.concatenate((\n",
    "    reviews_unsup.text.values,\n",
    "    reviews_train.text.values,\n",
    "    reviews_test.text.values))\n",
    "all_tconst = np.concatenate((\n",
    "    unsup_tconst,\n",
    "    train_tconst,\n",
    "    test_tconst))"
   ]
  },
  {
   "cell_type": "code",
   "execution_count": 23,
   "metadata": {},
   "outputs": [
    {
     "name": "stdout",
     "output_type": "stream",
     "text": [
      "Merging reviews per-movie...\n",
      "99000 ..."
     ]
    }
   ],
   "source": [
    "merged_reviews = defaultdict(str)\n",
    "prush('Merging reviews per-movie...')\n",
    "for (i, (tconst, text)) in enumerate(zip(all_tconst, all_texts)):\n",
    "    if not i % 1000:\n",
    "        prush(f'\\r{i:5d} ...', end='')\n",
    "    if tconst in movie_basics.index:\n",
    "        merged_reviews[tconst] = ' ||| '.join([merged_reviews[tconst], text])"
   ]
  },
  {
   "cell_type": "markdown",
   "metadata": {},
   "source": [
    "## Data cleaning and merging"
   ]
  },
  {
   "cell_type": "markdown",
   "metadata": {},
   "source": [
    "We'll use some helper functions to reformat some of the data:"
   ]
  },
  {
   "cell_type": "code",
   "execution_count": 24,
   "metadata": {},
   "outputs": [],
   "source": [
    "# two ways missing items are identified in the files\n",
    "mNAs = r'\\N', np.nan\n",
    "\n",
    "def entries_cast(col, dtype=float, default=-1):\n",
    "    \"\"\"Convert entries to desired datatype (-1 for missing values).\"\"\"\n",
    "    return [-1 if x in mNAs else dtype(x) for x in col.values]\n",
    "\n",
    "def entries_split(col):\n",
    "    \"\"\"Split list-of-str entries.\"\"\"\n",
    "    return [[] if x in mNAs else x.split(',') for x in col.values]\n",
    "\n",
    "def entries_split_ints(col):\n",
    "    \"\"\"Split list-of-str entries and convert to integer ids.\"\"\"\n",
    "    return [[] if x in mNAs else [int(xx[2:]) for xx in x.split(',')] for x in col.values]\n",
    "\n",
    "regex_amp = re.compile(r'&')\n",
    "regex_simplify = re.compile(r'[^\\w\\d -]')\n",
    "regex_space = re.compile(r'[-\\s]+')\n",
    "def simplify_title(t):\n",
    "    \"\"\"Simplify titles for easier inspection.\"\"\"\n",
    "    t = unidecode(t).lower()\n",
    "    t = re.sub(regex_amp, 'and', t)\n",
    "    t = re.sub(regex_simplify, '', t)\n",
    "    t = re.sub(regex_space, ' ', t)\n",
    "    return t"
   ]
  },
  {
   "cell_type": "markdown",
   "metadata": {},
   "source": [
    "Then we construct a master table, including basic metadata, ratings, and important personnel:"
   ]
  },
  {
   "cell_type": "code",
   "execution_count": 25,
   "metadata": {},
   "outputs": [
    {
     "name": "stdout",
     "output_type": "stream",
     "text": [
      "join...\n",
      "runtime...\n",
      "genres...\n",
      "directors...\n",
      "writers...\n",
      "principals...\n",
      "all people...\n",
      "reviews...\n",
      "final odds and ends...\n"
     ]
    }
   ],
   "source": [
    "# join tables\n",
    "prush('join...')\n",
    "movies = movie_basics.join(crew).join(ratings)\n",
    "\n",
    "# reformat some data\n",
    "prush('runtime...')\n",
    "movies['runtime'] = entries_cast(movies['runtimeMinutes'])\n",
    "movies['year'] = entries_cast(movies['startYear'], dtype=int)\n",
    "prush('genres...')\n",
    "movies['genres'] = entries_split(movies['genres'])\n",
    "prush('directors...')\n",
    "movies['directors'] = entries_split_ints(movies['directors'])\n",
    "prush('writers...')\n",
    "movies['writers'] = entries_split_ints(movies['writers'])\n",
    "prush('principals...')\n",
    "movies['principals'] = [princ_dict[t] for t in movies.index]\n",
    "# all people\n",
    "prush('all people...')\n",
    "movies['people'] = [\n",
    "    np.unique(\n",
    "        d + w + (p if isinstance(p,list) else [])\n",
    "    )\n",
    "    for (d,w,p)\n",
    "    in zip(movies.directors.values, movies.writers.values, movies.principals.values)]\n",
    "\n",
    "prush('reviews...')\n",
    "movies['reviews'] = [merged_reviews[t] for t in movies.index]\n",
    "\n",
    "prush('final odds and ends...')\n",
    "\n",
    "#rename some data\n",
    "movies.rename(columns={\n",
    "    'primaryTitle': 'title',\n",
    "    'averageRating': 'rating',\n",
    "    'numVotes': 'nratings',\n",
    "}, inplace=True)\n",
    "\n",
    "# drop unwanted and already renamed columns\n",
    "movies.drop(columns=['runtimeMinutes', 'originalTitle', 'startYear', 'endYear'], inplace=True)\n",
    "\n",
    "# add \"total love\" column\n",
    "movies['total_love'] = movies.rating * movies.nratings\n",
    "\n",
    "# add simplified titles\n",
    "movies['simple_title'] = [simplify_title(t) for t in movies.title.values]\n"
   ]
  },
  {
   "cell_type": "markdown",
   "metadata": {},
   "source": [
    "Occasionally we'll just want to grab random subsets of tables with this helper function:"
   ]
  },
  {
   "cell_type": "code",
   "execution_count": 26,
   "metadata": {},
   "outputs": [],
   "source": [
    "def random_subset(movies, N=5, seed=None):\n",
    "    random = np.random.RandomState(seed)\n",
    "    return movies.iloc[np.random.randint(len(movies), size=N)]"
   ]
  },
  {
   "cell_type": "markdown",
   "metadata": {},
   "source": [
    "We'll use this now to verify the structure of the master table of `movies`."
   ]
  },
  {
   "cell_type": "code",
   "execution_count": 27,
   "metadata": {},
   "outputs": [
    {
     "data": {
      "text/html": [
       "<div>\n",
       "<style scoped>\n",
       "    .dataframe tbody tr th:only-of-type {\n",
       "        vertical-align: middle;\n",
       "    }\n",
       "\n",
       "    .dataframe tbody tr th {\n",
       "        vertical-align: top;\n",
       "    }\n",
       "\n",
       "    .dataframe thead th {\n",
       "        text-align: right;\n",
       "    }\n",
       "</style>\n",
       "<table border=\"1\" class=\"dataframe\">\n",
       "  <thead>\n",
       "    <tr style=\"text-align: right;\">\n",
       "      <th></th>\n",
       "      <th>title</th>\n",
       "      <th>genres</th>\n",
       "      <th>directors</th>\n",
       "      <th>writers</th>\n",
       "      <th>rating</th>\n",
       "      <th>nratings</th>\n",
       "      <th>runtime</th>\n",
       "      <th>year</th>\n",
       "      <th>principals</th>\n",
       "      <th>people</th>\n",
       "      <th>reviews</th>\n",
       "      <th>total_love</th>\n",
       "      <th>simple_title</th>\n",
       "    </tr>\n",
       "    <tr>\n",
       "      <th>tconst</th>\n",
       "      <th></th>\n",
       "      <th></th>\n",
       "      <th></th>\n",
       "      <th></th>\n",
       "      <th></th>\n",
       "      <th></th>\n",
       "      <th></th>\n",
       "      <th></th>\n",
       "      <th></th>\n",
       "      <th></th>\n",
       "      <th></th>\n",
       "      <th></th>\n",
       "      <th></th>\n",
       "    </tr>\n",
       "  </thead>\n",
       "  <tbody>\n",
       "    <tr>\n",
       "      <th>888692</th>\n",
       "      <td>Facing Darkness</td>\n",
       "      <td>[Documentary]</td>\n",
       "      <td>[489811]</td>\n",
       "      <td>[]</td>\n",
       "      <td>NaN</td>\n",
       "      <td>NaN</td>\n",
       "      <td>45.0</td>\n",
       "      <td>2006</td>\n",
       "      <td>[489811, 2430635]</td>\n",
       "      <td>[489811, 2430635]</td>\n",
       "      <td></td>\n",
       "      <td>NaN</td>\n",
       "      <td>facing darkness</td>\n",
       "    </tr>\n",
       "    <tr>\n",
       "      <th>312014</th>\n",
       "      <td>Wesh wesh, qu'est-ce qui se passe?</td>\n",
       "      <td>[Drama]</td>\n",
       "      <td>[1140699]</td>\n",
       "      <td>[1140699, 1175024]</td>\n",
       "      <td>6.9</td>\n",
       "      <td>192.0</td>\n",
       "      <td>83.0</td>\n",
       "      <td>2001</td>\n",
       "      <td>[1184303, 1140699, 1177073, 1176968, 1176168, ...</td>\n",
       "      <td>[1125169, 1140699, 1174995, 1175024, 1176168, ...</td>\n",
       "      <td></td>\n",
       "      <td>1324.8</td>\n",
       "      <td>wesh wesh quest ce qui se passe</td>\n",
       "    </tr>\n",
       "    <tr>\n",
       "      <th>1457765</th>\n",
       "      <td>The Haunting in Connecticut 2: Ghosts of Georgia</td>\n",
       "      <td>[Drama, Horror, Mystery]</td>\n",
       "      <td>[253899]</td>\n",
       "      <td>[1548597]</td>\n",
       "      <td>5.3</td>\n",
       "      <td>15349.0</td>\n",
       "      <td>101.0</td>\n",
       "      <td>2013</td>\n",
       "      <td>[506654, 817844, 614877, 755267, 3014840, 2538...</td>\n",
       "      <td>[112189, 253899, 506654, 614877, 631134, 75526...</td>\n",
       "      <td></td>\n",
       "      <td>81349.7</td>\n",
       "      <td>the haunting in connecticut 2 ghosts of georgia</td>\n",
       "    </tr>\n",
       "    <tr>\n",
       "      <th>5723608</th>\n",
       "      <td>San gao zhuang</td>\n",
       "      <td>[Drama, Musical]</td>\n",
       "      <td>[8144112]</td>\n",
       "      <td>[508568]</td>\n",
       "      <td>NaN</td>\n",
       "      <td>NaN</td>\n",
       "      <td>110.0</td>\n",
       "      <td>1962</td>\n",
       "      <td>[719099, 492410, 1290989, 4117521, 8144112, 50...</td>\n",
       "      <td>[128748, 492410, 508568, 719099, 1290989, 4065...</td>\n",
       "      <td></td>\n",
       "      <td>NaN</td>\n",
       "      <td>san gao zhuang</td>\n",
       "    </tr>\n",
       "    <tr>\n",
       "      <th>453399</th>\n",
       "      <td>Sleep When You're Dead</td>\n",
       "      <td>[Documentary]</td>\n",
       "      <td>[1860080]</td>\n",
       "      <td>[1860080, 285249]</td>\n",
       "      <td>NaN</td>\n",
       "      <td>NaN</td>\n",
       "      <td>45.0</td>\n",
       "      <td>1990</td>\n",
       "      <td>[1854614, 1860080, 2643138, 285249, 1857412, 1...</td>\n",
       "      <td>[285249, 1854614, 1857412, 1860080, 1860812, 2...</td>\n",
       "      <td></td>\n",
       "      <td>NaN</td>\n",
       "      <td>sleep when youre dead</td>\n",
       "    </tr>\n",
       "  </tbody>\n",
       "</table>\n",
       "</div>"
      ],
      "text/plain": [
       "                                                    title  \\\n",
       "tconst                                                      \n",
       "888692                                    Facing Darkness   \n",
       "312014                 Wesh wesh, qu'est-ce qui se passe?   \n",
       "1457765  The Haunting in Connecticut 2: Ghosts of Georgia   \n",
       "5723608                                    San gao zhuang   \n",
       "453399                             Sleep When You're Dead   \n",
       "\n",
       "                           genres  directors             writers  rating  \\\n",
       "tconst                                                                     \n",
       "888692              [Documentary]   [489811]                  []     NaN   \n",
       "312014                    [Drama]  [1140699]  [1140699, 1175024]     6.9   \n",
       "1457765  [Drama, Horror, Mystery]   [253899]           [1548597]     5.3   \n",
       "5723608          [Drama, Musical]  [8144112]            [508568]     NaN   \n",
       "453399              [Documentary]  [1860080]   [1860080, 285249]     NaN   \n",
       "\n",
       "         nratings  runtime  year  \\\n",
       "tconst                             \n",
       "888692        NaN     45.0  2006   \n",
       "312014      192.0     83.0  2001   \n",
       "1457765   15349.0    101.0  2013   \n",
       "5723608       NaN    110.0  1962   \n",
       "453399        NaN     45.0  1990   \n",
       "\n",
       "                                                principals  \\\n",
       "tconst                                                       \n",
       "888692                                   [489811, 2430635]   \n",
       "312014   [1184303, 1140699, 1177073, 1176968, 1176168, ...   \n",
       "1457765  [506654, 817844, 614877, 755267, 3014840, 2538...   \n",
       "5723608  [719099, 492410, 1290989, 4117521, 8144112, 50...   \n",
       "453399   [1854614, 1860080, 2643138, 285249, 1857412, 1...   \n",
       "\n",
       "                                                    people reviews  \\\n",
       "tconst                                                               \n",
       "888692                                   [489811, 2430635]           \n",
       "312014   [1125169, 1140699, 1174995, 1175024, 1176168, ...           \n",
       "1457765  [112189, 253899, 506654, 614877, 631134, 75526...           \n",
       "5723608  [128748, 492410, 508568, 719099, 1290989, 4065...           \n",
       "453399   [285249, 1854614, 1857412, 1860080, 1860812, 2...           \n",
       "\n",
       "         total_love                                     simple_title  \n",
       "tconst                                                                \n",
       "888692          NaN                                  facing darkness  \n",
       "312014       1324.8                  wesh wesh quest ce qui se passe  \n",
       "1457765     81349.7  the haunting in connecticut 2 ghosts of georgia  \n",
       "5723608         NaN                                   san gao zhuang  \n",
       "453399          NaN                            sleep when youre dead  "
      ]
     },
     "execution_count": 27,
     "metadata": {},
     "output_type": "execute_result"
    }
   ],
   "source": [
    "random_subset(movies)"
   ]
  },
  {
   "cell_type": "markdown",
   "metadata": {},
   "source": [
    "## Initial exploration"
   ]
  },
  {
   "cell_type": "markdown",
   "metadata": {
    "heading_collapsed": true
   },
   "source": [
    "### Top movies"
   ]
  },
  {
   "cell_type": "code",
   "execution_count": 28,
   "metadata": {
    "hidden": true
   },
   "outputs": [],
   "source": [
    "summary_cols = ['title', 'genres', 'rating', 'nratings', 'year']"
   ]
  },
  {
   "cell_type": "markdown",
   "metadata": {
    "hidden": true
   },
   "source": [
    "The top of the list is pretty recognizable:"
   ]
  },
  {
   "cell_type": "code",
   "execution_count": 29,
   "metadata": {
    "hidden": true
   },
   "outputs": [
    {
     "data": {
      "text/html": [
       "<div>\n",
       "<style scoped>\n",
       "    .dataframe tbody tr th:only-of-type {\n",
       "        vertical-align: middle;\n",
       "    }\n",
       "\n",
       "    .dataframe tbody tr th {\n",
       "        vertical-align: top;\n",
       "    }\n",
       "\n",
       "    .dataframe thead th {\n",
       "        text-align: right;\n",
       "    }\n",
       "</style>\n",
       "<table border=\"1\" class=\"dataframe\">\n",
       "  <thead>\n",
       "    <tr style=\"text-align: right;\">\n",
       "      <th></th>\n",
       "      <th>title</th>\n",
       "      <th>genres</th>\n",
       "      <th>rating</th>\n",
       "      <th>nratings</th>\n",
       "      <th>year</th>\n",
       "    </tr>\n",
       "    <tr>\n",
       "      <th>tconst</th>\n",
       "      <th></th>\n",
       "      <th></th>\n",
       "      <th></th>\n",
       "      <th></th>\n",
       "      <th></th>\n",
       "    </tr>\n",
       "  </thead>\n",
       "  <tbody>\n",
       "    <tr>\n",
       "      <th>111161</th>\n",
       "      <td>The Shawshank Redemption</td>\n",
       "      <td>[Drama]</td>\n",
       "      <td>9.3</td>\n",
       "      <td>2132513.0</td>\n",
       "      <td>1994</td>\n",
       "    </tr>\n",
       "    <tr>\n",
       "      <th>468569</th>\n",
       "      <td>The Dark Knight</td>\n",
       "      <td>[Action, Crime, Drama]</td>\n",
       "      <td>9.0</td>\n",
       "      <td>2097252.0</td>\n",
       "      <td>2008</td>\n",
       "    </tr>\n",
       "    <tr>\n",
       "      <th>1375666</th>\n",
       "      <td>Inception</td>\n",
       "      <td>[Action, Adventure, Sci-Fi]</td>\n",
       "      <td>8.8</td>\n",
       "      <td>1870220.0</td>\n",
       "      <td>2010</td>\n",
       "    </tr>\n",
       "    <tr>\n",
       "      <th>137523</th>\n",
       "      <td>Fight Club</td>\n",
       "      <td>[Drama]</td>\n",
       "      <td>8.8</td>\n",
       "      <td>1704751.0</td>\n",
       "      <td>1999</td>\n",
       "    </tr>\n",
       "    <tr>\n",
       "      <th>110912</th>\n",
       "      <td>Pulp Fiction</td>\n",
       "      <td>[Crime, Drama]</td>\n",
       "      <td>8.9</td>\n",
       "      <td>1673247.0</td>\n",
       "      <td>1994</td>\n",
       "    </tr>\n",
       "    <tr>\n",
       "      <th>109830</th>\n",
       "      <td>Forrest Gump</td>\n",
       "      <td>[Drama, Romance]</td>\n",
       "      <td>8.8</td>\n",
       "      <td>1640894.0</td>\n",
       "      <td>1994</td>\n",
       "    </tr>\n",
       "    <tr>\n",
       "      <th>167260</th>\n",
       "      <td>The Lord of the Rings: The Return of the King</td>\n",
       "      <td>[Adventure, Drama, Fantasy]</td>\n",
       "      <td>8.9</td>\n",
       "      <td>1516719.0</td>\n",
       "      <td>2003</td>\n",
       "    </tr>\n",
       "    <tr>\n",
       "      <th>120737</th>\n",
       "      <td>The Lord of the Rings: The Fellowship of the Ring</td>\n",
       "      <td>[Adventure, Drama, Fantasy]</td>\n",
       "      <td>8.8</td>\n",
       "      <td>1532388.0</td>\n",
       "      <td>2001</td>\n",
       "    </tr>\n",
       "    <tr>\n",
       "      <th>68646</th>\n",
       "      <td>The Godfather</td>\n",
       "      <td>[Crime, Drama]</td>\n",
       "      <td>9.2</td>\n",
       "      <td>1464201.0</td>\n",
       "      <td>1972</td>\n",
       "    </tr>\n",
       "    <tr>\n",
       "      <th>133093</th>\n",
       "      <td>The Matrix</td>\n",
       "      <td>[Action, Sci-Fi]</td>\n",
       "      <td>8.7</td>\n",
       "      <td>1535694.0</td>\n",
       "      <td>1999</td>\n",
       "    </tr>\n",
       "  </tbody>\n",
       "</table>\n",
       "</div>"
      ],
      "text/plain": [
       "                                                     title  \\\n",
       "tconst                                                       \n",
       "111161                            The Shawshank Redemption   \n",
       "468569                                     The Dark Knight   \n",
       "1375666                                          Inception   \n",
       "137523                                          Fight Club   \n",
       "110912                                        Pulp Fiction   \n",
       "109830                                        Forrest Gump   \n",
       "167260       The Lord of the Rings: The Return of the King   \n",
       "120737   The Lord of the Rings: The Fellowship of the Ring   \n",
       "68646                                        The Godfather   \n",
       "133093                                          The Matrix   \n",
       "\n",
       "                              genres  rating   nratings  year  \n",
       "tconst                                                         \n",
       "111161                       [Drama]     9.3  2132513.0  1994  \n",
       "468569        [Action, Crime, Drama]     9.0  2097252.0  2008  \n",
       "1375666  [Action, Adventure, Sci-Fi]     8.8  1870220.0  2010  \n",
       "137523                       [Drama]     8.8  1704751.0  1999  \n",
       "110912                [Crime, Drama]     8.9  1673247.0  1994  \n",
       "109830              [Drama, Romance]     8.8  1640894.0  1994  \n",
       "167260   [Adventure, Drama, Fantasy]     8.9  1516719.0  2003  \n",
       "120737   [Adventure, Drama, Fantasy]     8.8  1532388.0  2001  \n",
       "68646                 [Crime, Drama]     9.2  1464201.0  1972  \n",
       "133093              [Action, Sci-Fi]     8.7  1535694.0  1999  "
      ]
     },
     "execution_count": 29,
     "metadata": {},
     "output_type": "execute_result"
    }
   ],
   "source": [
    "top_movies = movies.sort_values('total_love', ascending=False).head(1000)\n",
    "top_movies.head(10)[summary_cols]"
   ]
  },
  {
   "cell_type": "markdown",
   "metadata": {
    "hidden": true
   },
   "source": [
    "How likely are we to learn from the personnel info?  We check how often people repeat in this list:"
   ]
  },
  {
   "cell_type": "code",
   "execution_count": 30,
   "metadata": {
    "hidden": true
   },
   "outputs": [],
   "source": [
    "counts = Counter(np.concatenate(top_movies.people.values))"
   ]
  },
  {
   "cell_type": "code",
   "execution_count": 31,
   "metadata": {
    "hidden": true
   },
   "outputs": [
    {
     "name": "stdout",
     "output_type": "stream",
     "text": [
      "max number of repeat appearances: 28\n"
     ]
    }
   ],
   "source": [
    "print('max number of repeat appearances:', max(counts.values()))"
   ]
  },
  {
   "cell_type": "markdown",
   "metadata": {
    "hidden": true
   },
   "source": [
    "The distribution looks as follows:"
   ]
  },
  {
   "cell_type": "code",
   "execution_count": 32,
   "metadata": {
    "hidden": true
   },
   "outputs": [
    {
     "data": {
      "image/png": "[encoded data removed]",
      "text/plain": [
       "<Figure size 600x400 with 1 Axes>"
      ]
     },
     "metadata": {
      "needs_background": "light"
     },
     "output_type": "display_data"
    }
   ],
   "source": [
    "hl.plot1d(hl.hist(list(counts.values()), bins=np.r_[.5:30]), crosses=True)\n",
    "plt.semilogy();"
   ]
  },
  {
   "cell_type": "markdown",
   "metadata": {
    "hidden": true
   },
   "source": [
    "We can check out who are the stars:"
   ]
  },
  {
   "cell_type": "code",
   "execution_count": 33,
   "metadata": {
    "hidden": true
   },
   "outputs": [
    {
     "data": {
      "text/html": [
       "<div>\n",
       "<style scoped>\n",
       "    .dataframe tbody tr th:only-of-type {\n",
       "        vertical-align: middle;\n",
       "    }\n",
       "\n",
       "    .dataframe tbody tr th {\n",
       "        vertical-align: top;\n",
       "    }\n",
       "\n",
       "    .dataframe thead th {\n",
       "        text-align: right;\n",
       "    }\n",
       "</style>\n",
       "<table border=\"1\" class=\"dataframe\">\n",
       "  <thead>\n",
       "    <tr style=\"text-align: right;\">\n",
       "      <th></th>\n",
       "      <th>primaryName</th>\n",
       "      <th>birthYear</th>\n",
       "      <th>deathYear</th>\n",
       "      <th>primaryProfession</th>\n",
       "      <th>knownForTitles</th>\n",
       "    </tr>\n",
       "    <tr>\n",
       "      <th>nconst</th>\n",
       "      <th></th>\n",
       "      <th></th>\n",
       "      <th></th>\n",
       "      <th></th>\n",
       "      <th></th>\n",
       "    </tr>\n",
       "  </thead>\n",
       "  <tbody>\n",
       "    <tr>\n",
       "      <th>93</th>\n",
       "      <td>Brad Pitt</td>\n",
       "      <td>1963</td>\n",
       "      <td>\\N</td>\n",
       "      <td>actor,producer,soundtrack</td>\n",
       "      <td>tt0816711,tt0356910,tt0114746,tt1210166</td>\n",
       "    </tr>\n",
       "    <tr>\n",
       "      <th>136</th>\n",
       "      <td>Johnny Depp</td>\n",
       "      <td>1963</td>\n",
       "      <td>\\N</td>\n",
       "      <td>actor,producer,soundtrack</td>\n",
       "      <td>tt0383574,tt0325980,tt0408236,tt0449088</td>\n",
       "    </tr>\n",
       "    <tr>\n",
       "      <th>229</th>\n",
       "      <td>Steven Spielberg</td>\n",
       "      <td>1946</td>\n",
       "      <td>\\N</td>\n",
       "      <td>producer,writer,director</td>\n",
       "      <td>tt0108052,tt0082971,tt0120815,tt0083866</td>\n",
       "    </tr>\n",
       "    <tr>\n",
       "      <th>456158</th>\n",
       "      <td>Jack Kirby</td>\n",
       "      <td>1917</td>\n",
       "      <td>1994</td>\n",
       "      <td>writer,animation_department,miscellaneous</td>\n",
       "      <td>tt0371746,tt4154756,tt4154796,tt1825683</td>\n",
       "    </tr>\n",
       "    <tr>\n",
       "      <th>498278</th>\n",
       "      <td>Stan Lee</td>\n",
       "      <td>1922</td>\n",
       "      <td>2018</td>\n",
       "      <td>producer,writer,actor</td>\n",
       "      <td>tt3896198,tt2250912,tt1211837,tt1825683</td>\n",
       "    </tr>\n",
       "  </tbody>\n",
       "</table>\n",
       "</div>"
      ],
      "text/plain": [
       "             primaryName birthYear deathYear  \\\n",
       "nconst                                         \n",
       "93             Brad Pitt      1963        \\N   \n",
       "136          Johnny Depp      1963        \\N   \n",
       "229     Steven Spielberg      1946        \\N   \n",
       "456158        Jack Kirby      1917      1994   \n",
       "498278          Stan Lee      1922      2018   \n",
       "\n",
       "                                primaryProfession  \\\n",
       "nconst                                              \n",
       "93                      actor,producer,soundtrack   \n",
       "136                     actor,producer,soundtrack   \n",
       "229                      producer,writer,director   \n",
       "456158  writer,animation_department,miscellaneous   \n",
       "498278                      producer,writer,actor   \n",
       "\n",
       "                                 knownForTitles  \n",
       "nconst                                           \n",
       "93      tt0816711,tt0356910,tt0114746,tt1210166  \n",
       "136     tt0383574,tt0325980,tt0408236,tt0449088  \n",
       "229     tt0108052,tt0082971,tt0120815,tt0083866  \n",
       "456158  tt0371746,tt4154756,tt4154796,tt1825683  \n",
       "498278  tt3896198,tt2250912,tt1211837,tt1825683  "
      ]
     },
     "execution_count": 33,
     "metadata": {},
     "output_type": "execute_result"
    }
   ],
   "source": [
    "name_id, appearances = np.array(list(counts.keys())), np.array(list(counts.values()))\n",
    "order = np.argsort(appearances)[::-1]\n",
    "stars = name_id[order[:5]]\n",
    "people.iloc[np.in1d(people.index.values, stars)]"
   ]
  },
  {
   "cell_type": "markdown",
   "metadata": {
    "hidden": true
   },
   "source": [
    "And then we repeat this for the entire dataset:"
   ]
  },
  {
   "cell_type": "code",
   "execution_count": 34,
   "metadata": {
    "hidden": true
   },
   "outputs": [
    {
     "data": {
      "text/html": [
       "<div>\n",
       "<style scoped>\n",
       "    .dataframe tbody tr th:only-of-type {\n",
       "        vertical-align: middle;\n",
       "    }\n",
       "\n",
       "    .dataframe tbody tr th {\n",
       "        vertical-align: top;\n",
       "    }\n",
       "\n",
       "    .dataframe thead th {\n",
       "        text-align: right;\n",
       "    }\n",
       "</style>\n",
       "<table border=\"1\" class=\"dataframe\">\n",
       "  <thead>\n",
       "    <tr style=\"text-align: right;\">\n",
       "      <th></th>\n",
       "      <th>primaryName</th>\n",
       "      <th>birthYear</th>\n",
       "      <th>deathYear</th>\n",
       "      <th>primaryProfession</th>\n",
       "      <th>knownForTitles</th>\n",
       "    </tr>\n",
       "    <tr>\n",
       "      <th>nconst</th>\n",
       "      <th></th>\n",
       "      <th></th>\n",
       "      <th></th>\n",
       "      <th></th>\n",
       "      <th></th>\n",
       "    </tr>\n",
       "  </thead>\n",
       "  <tbody>\n",
       "    <tr>\n",
       "      <th>636</th>\n",
       "      <td>William Shakespeare</td>\n",
       "      <td>1564</td>\n",
       "      <td>1616</td>\n",
       "      <td>writer,soundtrack,miscellaneous</td>\n",
       "      <td>tt7344870,tt3894536,tt5932378,tt8632012</td>\n",
       "    </tr>\n",
       "    <tr>\n",
       "      <th>6137</th>\n",
       "      <td>Ilaiyaraaja</td>\n",
       "      <td>1943</td>\n",
       "      <td>\\N</td>\n",
       "      <td>composer,music_department,soundtrack</td>\n",
       "      <td>tt0101649,tt0887769,tt0086231,tt5340516</td>\n",
       "    </tr>\n",
       "    <tr>\n",
       "      <th>6982</th>\n",
       "      <td>Adoor Bhasi</td>\n",
       "      <td>1929</td>\n",
       "      <td>1990</td>\n",
       "      <td>actor,director,music_department</td>\n",
       "      <td>tt0155472,tt0076277,tt0268954,tt0282889</td>\n",
       "    </tr>\n",
       "    <tr>\n",
       "      <th>103977</th>\n",
       "      <td>Brahmanandam</td>\n",
       "      <td>1956</td>\n",
       "      <td>\\N</td>\n",
       "      <td>actor,music_department,soundtrack</td>\n",
       "      <td>tt3142764,tt1156516,tt5457772,tt1756476</td>\n",
       "    </tr>\n",
       "    <tr>\n",
       "      <th>232490</th>\n",
       "      <td>Dong-Chun Hyeon</td>\n",
       "      <td>\\N</td>\n",
       "      <td>\\N</td>\n",
       "      <td>editor</td>\n",
       "      <td>tt5240408,tt0334278,tt0333585,tt0308606</td>\n",
       "    </tr>\n",
       "    <tr>\n",
       "      <th>305182</th>\n",
       "      <td>Eddie Garcia</td>\n",
       "      <td>1929</td>\n",
       "      <td>2019</td>\n",
       "      <td>actor,director,soundtrack</td>\n",
       "      <td>tt2244376,tt0318412,tt0124988,tt0186511</td>\n",
       "    </tr>\n",
       "    <tr>\n",
       "      <th>453459</th>\n",
       "      <td>Hui-su Kim</td>\n",
       "      <td>\\N</td>\n",
       "      <td>\\N</td>\n",
       "      <td>editor</td>\n",
       "      <td>tt0350251,tt0333927,tt0406717,tt0352001</td>\n",
       "    </tr>\n",
       "    <tr>\n",
       "      <th>473742</th>\n",
       "      <td>Laxmikant Shantaram Kudalkar</td>\n",
       "      <td>1937</td>\n",
       "      <td>1998</td>\n",
       "      <td>composer,soundtrack,music_department</td>\n",
       "      <td>tt0146645,tt0061974,tt0338013,tt0214841</td>\n",
       "    </tr>\n",
       "    <tr>\n",
       "      <th>648803</th>\n",
       "      <td>Matsunosuke Onoe</td>\n",
       "      <td>1875</td>\n",
       "      <td>1926</td>\n",
       "      <td>actor,director,producer</td>\n",
       "      <td>tt1006821,tt1087637,tt0877604,tt1155764</td>\n",
       "    </tr>\n",
       "    <tr>\n",
       "      <th>756966</th>\n",
       "      <td>Shôji Sakai</td>\n",
       "      <td>\\N</td>\n",
       "      <td>\\N</td>\n",
       "      <td>editor,director,editorial_department</td>\n",
       "      <td>tt0087544,tt1164590,tt2825798,tt1296879</td>\n",
       "    </tr>\n",
       "  </tbody>\n",
       "</table>\n",
       "</div>"
      ],
      "text/plain": [
       "                         primaryName birthYear deathYear  \\\n",
       "nconst                                                     \n",
       "636              William Shakespeare      1564      1616   \n",
       "6137                     Ilaiyaraaja      1943        \\N   \n",
       "6982                     Adoor Bhasi      1929      1990   \n",
       "103977                  Brahmanandam      1956        \\N   \n",
       "232490               Dong-Chun Hyeon        \\N        \\N   \n",
       "305182                  Eddie Garcia      1929      2019   \n",
       "453459                    Hui-su Kim        \\N        \\N   \n",
       "473742  Laxmikant Shantaram Kudalkar      1937      1998   \n",
       "648803              Matsunosuke Onoe      1875      1926   \n",
       "756966                   Shôji Sakai        \\N        \\N   \n",
       "\n",
       "                           primaryProfession  \\\n",
       "nconst                                         \n",
       "636          writer,soundtrack,miscellaneous   \n",
       "6137    composer,music_department,soundtrack   \n",
       "6982         actor,director,music_department   \n",
       "103977     actor,music_department,soundtrack   \n",
       "232490                                editor   \n",
       "305182             actor,director,soundtrack   \n",
       "453459                                editor   \n",
       "473742  composer,soundtrack,music_department   \n",
       "648803               actor,director,producer   \n",
       "756966  editor,director,editorial_department   \n",
       "\n",
       "                                 knownForTitles  \n",
       "nconst                                           \n",
       "636     tt7344870,tt3894536,tt5932378,tt8632012  \n",
       "6137    tt0101649,tt0887769,tt0086231,tt5340516  \n",
       "6982    tt0155472,tt0076277,tt0268954,tt0282889  \n",
       "103977  tt3142764,tt1156516,tt5457772,tt1756476  \n",
       "232490  tt5240408,tt0334278,tt0333585,tt0308606  \n",
       "305182  tt2244376,tt0318412,tt0124988,tt0186511  \n",
       "453459  tt0350251,tt0333927,tt0406717,tt0352001  \n",
       "473742  tt0146645,tt0061974,tt0338013,tt0214841  \n",
       "648803  tt1006821,tt1087637,tt0877604,tt1155764  \n",
       "756966  tt0087544,tt1164590,tt2825798,tt1296879  "
      ]
     },
     "execution_count": 34,
     "metadata": {},
     "output_type": "execute_result"
    }
   ],
   "source": [
    "all_counts = Counter(np.concatenate(movies.people.values))\n",
    "name_id, appearances = np.array(list(all_counts.keys())), np.array(list(all_counts.values()))\n",
    "order = np.argsort(appearances)[::-1]\n",
    "stars = name_id[order[:10]]\n",
    "people.iloc[np.in1d(people.index.values, stars)]"
   ]
  },
  {
   "cell_type": "markdown",
   "metadata": {
    "hidden": true
   },
   "source": [
    "The distribution of [number of films an individual is involved with] is peaked at 1 but has a long tail:"
   ]
  },
  {
   "cell_type": "code",
   "execution_count": 35,
   "metadata": {
    "hidden": true
   },
   "outputs": [
    {
     "data": {
      "image/png": "[encoded data removed]",
      "text/plain": [
       "<Figure size 600x400 with 1 Axes>"
      ]
     },
     "metadata": {
      "needs_background": "light"
     },
     "output_type": "display_data"
    }
   ],
   "source": [
    "hl.plot1d(hl.hist(list(all_counts.values()), bins=np.r_[.5:101]), crosses=True)\n",
    "plt.semilogy();"
   ]
  },
  {
   "cell_type": "markdown",
   "metadata": {
    "hidden": true
   },
   "source": [
    "I didn't expect Shakespeare to rank so highly; let's see why:"
   ]
  },
  {
   "cell_type": "code",
   "execution_count": 36,
   "metadata": {
    "hidden": true
   },
   "outputs": [
    {
     "data": {
      "text/html": [
       "<div>\n",
       "<style scoped>\n",
       "    .dataframe tbody tr th:only-of-type {\n",
       "        vertical-align: middle;\n",
       "    }\n",
       "\n",
       "    .dataframe tbody tr th {\n",
       "        vertical-align: top;\n",
       "    }\n",
       "\n",
       "    .dataframe thead th {\n",
       "        text-align: right;\n",
       "    }\n",
       "</style>\n",
       "<table border=\"1\" class=\"dataframe\">\n",
       "  <thead>\n",
       "    <tr style=\"text-align: right;\">\n",
       "      <th></th>\n",
       "      <th>title</th>\n",
       "      <th>genres</th>\n",
       "      <th>rating</th>\n",
       "      <th>nratings</th>\n",
       "      <th>year</th>\n",
       "    </tr>\n",
       "    <tr>\n",
       "      <th>tconst</th>\n",
       "      <th></th>\n",
       "      <th></th>\n",
       "      <th></th>\n",
       "      <th></th>\n",
       "      <th></th>\n",
       "    </tr>\n",
       "  </thead>\n",
       "  <tbody>\n",
       "    <tr>\n",
       "      <th>147800</th>\n",
       "      <td>10 Things I Hate About You</td>\n",
       "      <td>[Comedy, Drama, Romance]</td>\n",
       "      <td>7.3</td>\n",
       "      <td>273534.0</td>\n",
       "      <td>1999</td>\n",
       "    </tr>\n",
       "    <tr>\n",
       "      <th>117509</th>\n",
       "      <td>Romeo + Juliet</td>\n",
       "      <td>[Drama, Romance]</td>\n",
       "      <td>6.7</td>\n",
       "      <td>197624.0</td>\n",
       "      <td>1996</td>\n",
       "    </tr>\n",
       "    <tr>\n",
       "      <th>89881</th>\n",
       "      <td>Ran</td>\n",
       "      <td>[Action, Drama]</td>\n",
       "      <td>8.2</td>\n",
       "      <td>101143.0</td>\n",
       "      <td>1985</td>\n",
       "    </tr>\n",
       "    <tr>\n",
       "      <th>55614</th>\n",
       "      <td>West Side Story</td>\n",
       "      <td>[Crime, Drama, Musical]</td>\n",
       "      <td>7.5</td>\n",
       "      <td>89076.0</td>\n",
       "      <td>1961</td>\n",
       "    </tr>\n",
       "    <tr>\n",
       "      <th>3390572</th>\n",
       "      <td>Haider</td>\n",
       "      <td>[Action, Crime, Drama]</td>\n",
       "      <td>8.1</td>\n",
       "      <td>46550.0</td>\n",
       "      <td>2014</td>\n",
       "    </tr>\n",
       "    <tr>\n",
       "      <th>50613</th>\n",
       "      <td>Throne of Blood</td>\n",
       "      <td>[Drama, History]</td>\n",
       "      <td>8.1</td>\n",
       "      <td>40430.0</td>\n",
       "      <td>1957</td>\n",
       "    </tr>\n",
       "    <tr>\n",
       "      <th>2884018</th>\n",
       "      <td>Macbeth</td>\n",
       "      <td>[Drama, History, War]</td>\n",
       "      <td>6.6</td>\n",
       "      <td>49509.0</td>\n",
       "      <td>2015</td>\n",
       "    </tr>\n",
       "    <tr>\n",
       "      <th>102494</th>\n",
       "      <td>My Own Private Idaho</td>\n",
       "      <td>[Drama]</td>\n",
       "      <td>7.1</td>\n",
       "      <td>45419.0</td>\n",
       "      <td>1991</td>\n",
       "    </tr>\n",
       "    <tr>\n",
       "      <th>49223</th>\n",
       "      <td>Forbidden Planet</td>\n",
       "      <td>[Action, Adventure, Sci-Fi]</td>\n",
       "      <td>7.6</td>\n",
       "      <td>41860.0</td>\n",
       "      <td>1956</td>\n",
       "    </tr>\n",
       "    <tr>\n",
       "      <th>107616</th>\n",
       "      <td>Much Ado About Nothing</td>\n",
       "      <td>[Comedy, Drama, Romance]</td>\n",
       "      <td>7.3</td>\n",
       "      <td>42709.0</td>\n",
       "      <td>1993</td>\n",
       "    </tr>\n",
       "  </tbody>\n",
       "</table>\n",
       "</div>"
      ],
      "text/plain": [
       "                              title                       genres  rating  \\\n",
       "tconst                                                                     \n",
       "147800   10 Things I Hate About You     [Comedy, Drama, Romance]     7.3   \n",
       "117509               Romeo + Juliet             [Drama, Romance]     6.7   \n",
       "89881                           Ran              [Action, Drama]     8.2   \n",
       "55614               West Side Story      [Crime, Drama, Musical]     7.5   \n",
       "3390572                      Haider       [Action, Crime, Drama]     8.1   \n",
       "50613               Throne of Blood             [Drama, History]     8.1   \n",
       "2884018                     Macbeth        [Drama, History, War]     6.6   \n",
       "102494         My Own Private Idaho                      [Drama]     7.1   \n",
       "49223              Forbidden Planet  [Action, Adventure, Sci-Fi]     7.6   \n",
       "107616       Much Ado About Nothing     [Comedy, Drama, Romance]     7.3   \n",
       "\n",
       "         nratings  year  \n",
       "tconst                   \n",
       "147800   273534.0  1999  \n",
       "117509   197624.0  1996  \n",
       "89881    101143.0  1985  \n",
       "55614     89076.0  1961  \n",
       "3390572   46550.0  2014  \n",
       "50613     40430.0  1957  \n",
       "2884018   49509.0  2015  \n",
       "102494    45419.0  1991  \n",
       "49223     41860.0  1956  \n",
       "107616    42709.0  1993  "
      ]
     },
     "execution_count": 36,
     "metadata": {},
     "output_type": "execute_result"
    }
   ],
   "source": [
    "includes_shakespeare = [636 in p for p in movies.people.values]\n",
    "movies[includes_shakespeare].sort_values('total_love', ascending=False).head(10)[summary_cols]"
   ]
  },
  {
   "cell_type": "markdown",
   "metadata": {
    "hidden": true
   },
   "source": [
    "Oh right, people re-tell Shakespeare's stories in films all the time.  Moving on..."
   ]
  },
  {
   "cell_type": "markdown",
   "metadata": {
    "heading_collapsed": true
   },
   "source": [
    "### Rating distribution"
   ]
  },
  {
   "cell_type": "markdown",
   "metadata": {
    "hidden": true
   },
   "source": [
    "Rating information might be useful, but many values are missing.  Before deciding how to handle missing data, we should see how the ratings are distributed:"
   ]
  },
  {
   "cell_type": "code",
   "execution_count": 37,
   "metadata": {
    "hidden": true
   },
   "outputs": [],
   "source": [
    "rated_movies = movies[np.isfinite(movies.rating)]"
   ]
  },
  {
   "cell_type": "code",
   "execution_count": 38,
   "metadata": {
    "hidden": true
   },
   "outputs": [
    {
     "data": {
      "image/png": "[encoded data removed]",
      "text/plain": [
       "<Figure size 600x400 with 1 Axes>"
      ]
     },
     "metadata": {
      "needs_background": "light"
     },
     "output_type": "display_data"
    }
   ],
   "source": [
    "hl.plot1d(hl.hist(rated_movies.rating, bins=np.r_[-.05:10.1:.1]), crosses=True)\n",
    "plt.xlabel('rating');"
   ]
  },
  {
   "cell_type": "code",
   "execution_count": 39,
   "metadata": {
    "hidden": true
   },
   "outputs": [
    {
     "data": {
      "image/png": "[encoded data removed]",
      "text/plain": [
       "<Figure size 600x400 with 1 Axes>"
      ]
     },
     "metadata": {
      "needs_background": "light"
     },
     "output_type": "display_data"
    }
   ],
   "source": [
    "fig, ax = plt.subplots()\n",
    "hl.plot2d(hl.kde((rated_movies.nratings, rated_movies.rating), log=(True, False)))\n",
    "ax.set_xlabel(r'number of ratings')\n",
    "ax.set_ylabel(r'rating');"
   ]
  },
  {
   "cell_type": "markdown",
   "metadata": {
    "hidden": true
   },
   "source": [
    "There appears to be some sort of threshold at 100, but it's unclear so far what implications that may have."
   ]
  },
  {
   "cell_type": "markdown",
   "metadata": {
    "heading_collapsed": true
   },
   "source": [
    "### Genre distribution"
   ]
  },
  {
   "cell_type": "code",
   "execution_count": 40,
   "metadata": {
    "hidden": true
   },
   "outputs": [],
   "source": [
    "genre_counts = Counter(np.concatenate(movies.genres.values))\n",
    "k, v = np.array(list(genre_counts.keys())), np.array(list(genre_counts.values()))\n",
    "o = np.argsort(v)\n",
    "k, v = k[o], v[o]"
   ]
  },
  {
   "cell_type": "code",
   "execution_count": 41,
   "metadata": {
    "hidden": true
   },
   "outputs": [
    {
     "data": {
      "image/png": "[encoded data removed]",
      "text/plain": [
       "<Figure size 800x500 with 2 Axes>"
      ]
     },
     "metadata": {
      "needs_background": "light"
     },
     "output_type": "display_data"
    }
   ],
   "source": [
    "fig, ax = plt.subplots(1, 2, figsize=(8, 5), sharey=True)\n",
    "r = np.arange(len(v))\n",
    "ax[0].barh(r, v)\n",
    "plt.yticks(r, k)\n",
    "ax[1].barh(r, v)\n",
    "ax[1].semilogx()\n",
    "for a in ax:\n",
    "    a.grid(axis='y')\n",
    "plt.tight_layout()"
   ]
  },
  {
   "cell_type": "markdown",
   "metadata": {},
   "source": [
    "## Similarity models"
   ]
  },
  {
   "cell_type": "markdown",
   "metadata": {},
   "source": [
    "Our strategy will be to model the similarity between different movies based on various available criteria.  We'll use the following four aspects of the data:\n",
    "\n",
    "* **People involved in making each film:** if a user likes movies involving certain directors, writers, producers, etc. then it stands to reason that they may also like other work by those individuals.\n",
    "* **Genre:** if a user enjoys dramas, we'll recommend more dramas.\n",
    "* **Ratings:** if a user enjoys highly rated movies or very popular (often rated) movies, we'll recommend more movies that are similar on these axes.  (Alternative: un-personalized rating-based recommendations — this is actually the form we will use later.)\n",
    "* **Review content:** if a user likes movies that tend to yield reviews containing certain words, we'll recommend more movies that generate similar reviews."
   ]
  },
  {
   "cell_type": "markdown",
   "metadata": {},
   "source": [
    "For the purposes of this in-notebook exercise, we'll implement similarity models using an interface inspired by, but not strictly conformant to, the sklearn interface.  \"Fitting\" will look mostly standard, but \"predict\" will be based on pre-cached vectors tied to `tconst` handles.  This will allow some caching to make things not _quite_ so slow when working with e.g. the entire movie list."
   ]
  },
  {
   "cell_type": "markdown",
   "metadata": {
    "heading_collapsed": true
   },
   "source": [
    "### PeopleSimilarity"
   ]
  },
  {
   "cell_type": "code",
   "execution_count": 42,
   "metadata": {
    "hidden": true
   },
   "outputs": [],
   "source": [
    "class PeopleSimilarity(object):\n",
    "    \n",
    "    \"\"\"Rank movies' similarity based on overlap of people who made them.\n",
    "    \n",
    "    This model can also consider people other than directors/writers/actors\n",
    "    (e.g. who watched, who rated, who rated highly, etc.).\n",
    "    \"\"\"\n",
    "    \n",
    "    def __init__(self, column='people'):\n",
    "        self.column = 'people'\n",
    "    \n",
    "    def fit(self, X, verbose=True):\n",
    "        # count movies, save index\n",
    "        movies = X\n",
    "        column = self.column\n",
    "        self.index = index = movies.index\n",
    "        n_movies = len(index)\n",
    "\n",
    "        # get people\n",
    "        all_people = np.unique(np.concatenate(movies[column].values)).astype(int)\n",
    "        max_person_id = all_people[-1] + 1\n",
    "\n",
    "        if verbose:\n",
    "            prush('Building feature arrays...')\n",
    "        data, row, col = [], [], []\n",
    "        for (i, people) in enumerate(movies[column].values):\n",
    "            ones = np.ones(len(people), dtype=int)\n",
    "            r = i * ones\n",
    "            c = people\n",
    "            data.extend(ones)\n",
    "            row.extend(r)\n",
    "            col.extend(c)\n",
    "\n",
    "        if verbose:\n",
    "            prush('Building sparse feature matrix...')\n",
    "\n",
    "        movie_data_matrix = sparse.csr_matrix(\n",
    "            (data, (row, col)),\n",
    "            shape=(n_movies, max_person_id))\n",
    "\n",
    "        if verbose:\n",
    "            prush('Computing similarity matrix...')\n",
    "        similarity = cosine_similarity(movie_data_matrix, movie_data_matrix, dense_output=False)\n",
    "        \n",
    "        # done; save info\n",
    "        self.similarity = similarity\n",
    "        \n",
    "    def predict(self, x, densify=True):\n",
    "        i = [self.index.get_loc(xx) for xx in np.atleast_1d(x)]\n",
    "        out = self.similarity[i]\n",
    "        if densify:\n",
    "            out = out.toarray()\n",
    "        out = out.mean(axis=0)\n",
    "        return out"
   ]
  },
  {
   "cell_type": "markdown",
   "metadata": {
    "heading_collapsed": true
   },
   "source": [
    "### GenreSimilarity"
   ]
  },
  {
   "cell_type": "code",
   "execution_count": 43,
   "metadata": {
    "hidden": true
   },
   "outputs": [],
   "source": [
    "class GenreSimilarity(object):\n",
    "    \n",
    "    \"\"\"Rank movies' similarity based on overlap of genres covered.\"\"\"\n",
    "    \n",
    "    def __init__(self):\n",
    "        pass\n",
    "    \n",
    "    def _to_int(self, genres):\n",
    "        # assumes no hash collisions...\n",
    "        return np.array([self.genres.index(g) for g in genres], dtype=int)\n",
    "    \n",
    "    def _to_row(self, genres):\n",
    "        out = np.zeros(self.n_genres, dtype=int)\n",
    "        out[self._to_int(genres)] = 1\n",
    "        return out\n",
    "    \n",
    "    def fit(self, X):\n",
    "        movies = X\n",
    "        self.index = index = movies.index\n",
    "        n_movies = len(index)\n",
    "        self.genres = sorted(set(np.concatenate(movies.genres.values)))\n",
    "        self.n_genres = len(self.genres)\n",
    "        \n",
    "        self.genre_matrix = np.array([self._to_row(g) for g in movies.genres.values])\n",
    "        \n",
    "    def predict(self, x):\n",
    "        i = [self.index.get_loc(xx) for xx in np.atleast_1d(x)]\n",
    "        similarity = cosine_similarity(self.genre_matrix[i], self.genre_matrix)\n",
    "        return similarity.mean(axis=0)"
   ]
  },
  {
   "cell_type": "markdown",
   "metadata": {
    "heading_collapsed": true
   },
   "source": [
    "### RatingSimilarity"
   ]
  },
  {
   "cell_type": "code",
   "execution_count": 44,
   "metadata": {
    "hidden": true
   },
   "outputs": [],
   "source": [
    "class RatingSimilarity(object):\n",
    "    \n",
    "    \"\"\"Rank movies' similarity based on value and number of ratings.\n",
    "    \n",
    "    This model can relate movies to each other, or simply to the origin (0,0).\n",
    "    The latter yields a completely un-personalized popularity contest.\n",
    "    \"\"\"\n",
    "    \n",
    "    def __init__(self, popularity_only=False):\n",
    "        self.popularity_only = popularity_only\n",
    "    \n",
    "    def _fill_mean(self, a):\n",
    "        a = a.values\n",
    "        mask = np.isfinite(a)\n",
    "        mask[mask] &= a[mask] > -1\n",
    "        return np.where(mask, a, np.mean(a[mask]))\n",
    "    \n",
    "    def _scale_array(self, a):\n",
    "        a = a - a.min()\n",
    "        a /= a.max()\n",
    "        return a\n",
    "    \n",
    "    def fit(self, X):\n",
    "        movies = X\n",
    "        self.index = index = movies.index\n",
    "                \n",
    "        # could add options for how to deal with missing data\n",
    "        rating = self._fill_mean(movies.rating)\n",
    "        nratings = self._fill_mean(movies.nratings)\n",
    "        a = self._scale_array(rating)\n",
    "        b = self._scale_array(np.log10(nratings))\n",
    "        \n",
    "        self.numerics_matrix = np.transpose([a, b])\n",
    "        self.popularity_vector = np.hypot(a, b)\n",
    "        \n",
    "    def predict(self, x):\n",
    "        x = np.atleast_1d(x)\n",
    "        if self.popularity_only:\n",
    "            return np.mean([self.popularity_vector for xx in x], axis=0)\n",
    "        else:\n",
    "            i = [self.index.get_loc(xx) for xx in x]\n",
    "            similarity = euclidean_distances(self.numerics_matrix[i], self.numerics_matrix)\n",
    "            return similarity.mean(axis=0)"
   ]
  },
  {
   "cell_type": "markdown",
   "metadata": {
    "heading_collapsed": true
   },
   "source": [
    "### ReviewSimilarity"
   ]
  },
  {
   "cell_type": "code",
   "execution_count": 45,
   "metadata": {
    "hidden": true
   },
   "outputs": [],
   "source": [
    "# stop words borrowed from sentiment analysis notebook\n",
    "stop_words = \"\"\"\n",
    "she very when more can some what if has out about or her there so from an who by they at\n",
    "all one be have his are he on you film movie for with as was that this in it is to of and\n",
    "the\n",
    "\"\"\"\n",
    "\n",
    "class ReviewSimilarity(object):\n",
    "    \n",
    "    \"\"\"Rank movies' similarity based on words contained in reviews by users.\"\"\"\n",
    "    \n",
    "    def __init__(self, max_features=10000):\n",
    "        self.max_features = max_features\n",
    "        \n",
    "    def fit(self, X):\n",
    "        # TODO: is it worth including bigrams? trigrams?\n",
    "        movies = X\n",
    "        self.index = movies.index\n",
    "        self.vectorizer = TfidfVectorizer(\n",
    "            ngram_range=(1,1),\n",
    "            min_df=3,\n",
    "            max_features=self.max_features,\n",
    "            decode_error='replace',\n",
    "            strip_accents='unicode')\n",
    "        self.review_matrix = self.vectorizer.fit_transform(movies.reviews.values)\n",
    "        \n",
    "    def predict(self, x):\n",
    "        i = [self.index.get_loc(xx) for xx in np.atleast_1d(x)]\n",
    "        similarity = cosine_similarity(self.review_matrix[i], self.review_matrix)\n",
    "        return similarity.mean(axis=0)"
   ]
  },
  {
   "cell_type": "markdown",
   "metadata": {},
   "source": [
    "## Recommender — reviewed movies only"
   ]
  },
  {
   "cell_type": "markdown",
   "metadata": {},
   "source": [
    "Now we finally come to the recommender engine itself.  Its task is to provide a convenient interface for obtaining the recommendations, either in an ad-hoc way or, as we'll see below, programmatically based on `tconst` values."
   ]
  },
  {
   "cell_type": "code",
   "execution_count": 46,
   "metadata": {},
   "outputs": [],
   "source": [
    "class Recommender(object):\n",
    "    \n",
    "    \"\"\"Recommend movies based on similarity models.\"\"\"\n",
    "\n",
    "    def __init__(self, movies, models, weights=None):\n",
    "        self.movies = movies\n",
    "        models = np.atleast_1d(models)\n",
    "        self.models = models\n",
    "        if weights is None:\n",
    "            weights = np.ones(len(self.models))\n",
    "        self.weights = weights\n",
    "        \n",
    "    def _title_to_tconst(self, title, year=None):\n",
    "        \"\"\"Accept simple_title or tconst(s); return tconst(s).\"\"\"\n",
    "        movies = self.movies\n",
    "        if isinstance(title, str):\n",
    "            cond = movies.simple_title.values == simplify_title(title)\n",
    "            if not np.any(cond):\n",
    "                raise ValueError(f'\"{title}\" not found in database')            \n",
    "            if year is not None:\n",
    "                cond *= movies.year.values == year\n",
    "            tconst = movies.index.values[np.where(cond)[0][0]]\n",
    "        else:\n",
    "            tconst = title\n",
    "        return tconst\n",
    "        \n",
    "    def get_recommendations(self, title, year=None, N=10, future=False):\n",
    "        \"\"\"Give descending-relevance tconsts and corresponding similarity measures.\"\"\"\n",
    "        # get similarity measures based on each model\n",
    "        tconst = self._title_to_tconst(title, year)\n",
    "        sims = np.array([model.predict(tconst) for model in self.models])\n",
    "        # get weighted overall similarity\n",
    "        sims = np.mean(sims.T * self.weights, axis=-1)\n",
    "        # get N best, excluding items from the future by default\n",
    "        sims_order = np.argsort(sims)[::-1][:3*N]\n",
    "        df = self.movies.iloc[sims_order]\n",
    "        tconsts, years = df.index.values, df.year.values\n",
    "        if not future:\n",
    "            tconsts = tconsts[years <= 2019]\n",
    "        return tconsts[:N+1], sims[sims_order][:N+1]\n",
    "        \n",
    "    def print_recommendations(self, title, year=None, N=10, future=False):\n",
    "        \"\"\"Print a recommendations list.\"\"\"\n",
    "        tconsts, sims = self.get_recommendations(title, year=year, N=N, future=future)\n",
    "        df = self.movies.loc[tconsts]\n",
    "        titles = df.title.values\n",
    "        years = df.year.values\n",
    "        if len(np.atleast_1d(title)) == 1:\n",
    "            header = f'Because you liked: {titles[0]}'\n",
    "            if years[0] > -1:\n",
    "                header += f' ({years[0]})'\n",
    "            if future:\n",
    "                header += ' (future included)'\n",
    "            print(header)\n",
    "        for (i, (title, year, sim, tconst)) in enumerate(zip(titles[1:], years[1:], sims[1:], tconsts[1:])):\n",
    "            #line = f'{i+1:3d}: [{100*sim:3.0f}%] {title}'\n",
    "            line = f'{i+1:3d}: {title}'\n",
    "            if year > -1:\n",
    "                line += f' ({year})'\n",
    "            print(f'{line:60s}{tconst}')"
   ]
  },
  {
   "cell_type": "markdown",
   "metadata": {},
   "source": [
    "Let's start with a recommender for reviewed movies only."
   ]
  },
  {
   "cell_type": "code",
   "execution_count": 47,
   "metadata": {},
   "outputs": [
    {
     "name": "stdout",
     "output_type": "stream",
     "text": [
      "9611 movies are included in the reviews dataset.\n"
     ]
    }
   ],
   "source": [
    "reviewed_movies = movies[movies.reviews.values != '']\n",
    "print('{} movies are included in the reviews dataset.'.format(len(reviewed_movies)))"
   ]
  },
  {
   "cell_type": "code",
   "execution_count": 48,
   "metadata": {},
   "outputs": [],
   "source": [
    "top_reviewed_movies = reviewed_movies.sort_values('total_love', ascending=False).iloc[:1000]"
   ]
  },
  {
   "cell_type": "code",
   "execution_count": 49,
   "metadata": {},
   "outputs": [
    {
     "data": {
      "text/html": [
       "<div>\n",
       "<style scoped>\n",
       "    .dataframe tbody tr th:only-of-type {\n",
       "        vertical-align: middle;\n",
       "    }\n",
       "\n",
       "    .dataframe tbody tr th {\n",
       "        vertical-align: top;\n",
       "    }\n",
       "\n",
       "    .dataframe thead th {\n",
       "        text-align: right;\n",
       "    }\n",
       "</style>\n",
       "<table border=\"1\" class=\"dataframe\">\n",
       "  <thead>\n",
       "    <tr style=\"text-align: right;\">\n",
       "      <th></th>\n",
       "      <th>title</th>\n",
       "      <th>genres</th>\n",
       "      <th>rating</th>\n",
       "      <th>nratings</th>\n",
       "      <th>year</th>\n",
       "    </tr>\n",
       "    <tr>\n",
       "      <th>tconst</th>\n",
       "      <th></th>\n",
       "      <th></th>\n",
       "      <th></th>\n",
       "      <th></th>\n",
       "      <th></th>\n",
       "    </tr>\n",
       "  </thead>\n",
       "  <tbody>\n",
       "    <tr>\n",
       "      <th>109830</th>\n",
       "      <td>Forrest Gump</td>\n",
       "      <td>[Drama, Romance]</td>\n",
       "      <td>8.8</td>\n",
       "      <td>1640894.0</td>\n",
       "      <td>1994</td>\n",
       "    </tr>\n",
       "    <tr>\n",
       "      <th>167260</th>\n",
       "      <td>The Lord of the Rings: The Return of the King</td>\n",
       "      <td>[Adventure, Drama, Fantasy]</td>\n",
       "      <td>8.9</td>\n",
       "      <td>1516719.0</td>\n",
       "      <td>2003</td>\n",
       "    </tr>\n",
       "    <tr>\n",
       "      <th>120737</th>\n",
       "      <td>The Lord of the Rings: The Fellowship of the Ring</td>\n",
       "      <td>[Adventure, Drama, Fantasy]</td>\n",
       "      <td>8.8</td>\n",
       "      <td>1532388.0</td>\n",
       "      <td>2001</td>\n",
       "    </tr>\n",
       "    <tr>\n",
       "      <th>114369</th>\n",
       "      <td>Se7en</td>\n",
       "      <td>[Crime, Drama, Mystery]</td>\n",
       "      <td>8.6</td>\n",
       "      <td>1310318.0</td>\n",
       "      <td>1995</td>\n",
       "    </tr>\n",
       "    <tr>\n",
       "      <th>108052</th>\n",
       "      <td>Schindler's List</td>\n",
       "      <td>[Biography, Drama, History]</td>\n",
       "      <td>8.9</td>\n",
       "      <td>1106848.0</td>\n",
       "      <td>1993</td>\n",
       "    </tr>\n",
       "    <tr>\n",
       "      <th>361748</th>\n",
       "      <td>Inglourious Basterds</td>\n",
       "      <td>[Adventure, Drama, War]</td>\n",
       "      <td>8.3</td>\n",
       "      <td>1146680.0</td>\n",
       "      <td>2009</td>\n",
       "    </tr>\n",
       "    <tr>\n",
       "      <th>407887</th>\n",
       "      <td>The Departed</td>\n",
       "      <td>[Crime, Drama, Thriller]</td>\n",
       "      <td>8.5</td>\n",
       "      <td>1092078.0</td>\n",
       "      <td>2006</td>\n",
       "    </tr>\n",
       "    <tr>\n",
       "      <th>482571</th>\n",
       "      <td>The Prestige</td>\n",
       "      <td>[Drama, Mystery, Sci-Fi]</td>\n",
       "      <td>8.5</td>\n",
       "      <td>1082710.0</td>\n",
       "      <td>2006</td>\n",
       "    </tr>\n",
       "    <tr>\n",
       "      <th>499549</th>\n",
       "      <td>Avatar</td>\n",
       "      <td>[Action, Adventure, Fantasy]</td>\n",
       "      <td>7.8</td>\n",
       "      <td>1057642.0</td>\n",
       "      <td>2009</td>\n",
       "    </tr>\n",
       "    <tr>\n",
       "      <th>434409</th>\n",
       "      <td>V for Vendetta</td>\n",
       "      <td>[Action, Drama, Sci-Fi]</td>\n",
       "      <td>8.2</td>\n",
       "      <td>962705.0</td>\n",
       "      <td>2005</td>\n",
       "    </tr>\n",
       "  </tbody>\n",
       "</table>\n",
       "</div>"
      ],
      "text/plain": [
       "                                                    title  \\\n",
       "tconst                                                      \n",
       "109830                                       Forrest Gump   \n",
       "167260      The Lord of the Rings: The Return of the King   \n",
       "120737  The Lord of the Rings: The Fellowship of the Ring   \n",
       "114369                                              Se7en   \n",
       "108052                                   Schindler's List   \n",
       "361748                               Inglourious Basterds   \n",
       "407887                                       The Departed   \n",
       "482571                                       The Prestige   \n",
       "499549                                             Avatar   \n",
       "434409                                     V for Vendetta   \n",
       "\n",
       "                              genres  rating   nratings  year  \n",
       "tconst                                                         \n",
       "109830              [Drama, Romance]     8.8  1640894.0  1994  \n",
       "167260   [Adventure, Drama, Fantasy]     8.9  1516719.0  2003  \n",
       "120737   [Adventure, Drama, Fantasy]     8.8  1532388.0  2001  \n",
       "114369       [Crime, Drama, Mystery]     8.6  1310318.0  1995  \n",
       "108052   [Biography, Drama, History]     8.9  1106848.0  1993  \n",
       "361748       [Adventure, Drama, War]     8.3  1146680.0  2009  \n",
       "407887      [Crime, Drama, Thriller]     8.5  1092078.0  2006  \n",
       "482571      [Drama, Mystery, Sci-Fi]     8.5  1082710.0  2006  \n",
       "499549  [Action, Adventure, Fantasy]     7.8  1057642.0  2009  \n",
       "434409       [Action, Drama, Sci-Fi]     8.2   962705.0  2005  "
      ]
     },
     "execution_count": 49,
     "metadata": {},
     "output_type": "execute_result"
    }
   ],
   "source": [
    "top_reviewed_movies.head(10)[summary_cols]"
   ]
  },
  {
   "cell_type": "markdown",
   "metadata": {},
   "source": [
    "We'll fit several similarity models:"
   ]
  },
  {
   "cell_type": "code",
   "execution_count": 50,
   "metadata": {},
   "outputs": [
    {
     "name": "stdout",
     "output_type": "stream",
     "text": [
      "== Fitting people ===\n",
      "Building feature arrays...\n",
      "Building sparse feature matrix...\n",
      "Computing similarity matrix...\n",
      "== Fitting genre ===\n",
      "== Fitting popularity ===\n",
      "== Fitting reviews ===\n"
     ]
    }
   ],
   "source": [
    "models_reviewed = {}\n",
    "models_reviewed['people'] = PeopleSimilarity()\n",
    "models_reviewed['genre'] = GenreSimilarity()\n",
    "models_reviewed['popularity'] = RatingSimilarity(popularity_only=True)\n",
    "models_reviewed['reviews'] = ReviewSimilarity()\n",
    "\n",
    "for (label, model) in models_reviewed.items():\n",
    "    prush(f'== Fitting {label} ===')\n",
    "    model.fit(reviewed_movies)"
   ]
  },
  {
   "cell_type": "markdown",
   "metadata": {},
   "source": [
    "And now we're ready to set up the `Recommender`:"
   ]
  },
  {
   "cell_type": "code",
   "execution_count": 51,
   "metadata": {},
   "outputs": [],
   "source": [
    "models = [\n",
    "    models_reviewed['people'],\n",
    "    models_reviewed['genre'],\n",
    "    models_reviewed['popularity'],\n",
    "    models_reviewed['reviews']\n",
    "]\n",
    "\n",
    "weights = [.2, .15, .15, .5]\n",
    "\n",
    "R = Recommender(reviewed_movies, models, weights)"
   ]
  },
  {
   "cell_type": "markdown",
   "metadata": {},
   "source": [
    "Let's pick some random movies for which to inspect the results:"
   ]
  },
  {
   "cell_type": "code",
   "execution_count": 52,
   "metadata": {},
   "outputs": [
    {
     "data": {
      "text/html": [
       "<div>\n",
       "<style scoped>\n",
       "    .dataframe tbody tr th:only-of-type {\n",
       "        vertical-align: middle;\n",
       "    }\n",
       "\n",
       "    .dataframe tbody tr th {\n",
       "        vertical-align: top;\n",
       "    }\n",
       "\n",
       "    .dataframe thead th {\n",
       "        text-align: right;\n",
       "    }\n",
       "</style>\n",
       "<table border=\"1\" class=\"dataframe\">\n",
       "  <thead>\n",
       "    <tr style=\"text-align: right;\">\n",
       "      <th></th>\n",
       "      <th>title</th>\n",
       "      <th>genres</th>\n",
       "      <th>rating</th>\n",
       "      <th>nratings</th>\n",
       "      <th>year</th>\n",
       "    </tr>\n",
       "    <tr>\n",
       "      <th>tconst</th>\n",
       "      <th></th>\n",
       "      <th></th>\n",
       "      <th></th>\n",
       "      <th></th>\n",
       "      <th></th>\n",
       "    </tr>\n",
       "  </thead>\n",
       "  <tbody>\n",
       "    <tr>\n",
       "      <th>380726</th>\n",
       "      <td>Stara basn. Kiedy slonce bylo bogiem</td>\n",
       "      <td>[Adventure, Drama, History]</td>\n",
       "      <td>5.4</td>\n",
       "      <td>1095.0</td>\n",
       "      <td>2003</td>\n",
       "    </tr>\n",
       "    <tr>\n",
       "      <th>473356</th>\n",
       "      <td>The Flock</td>\n",
       "      <td>[Crime, Drama, Mystery]</td>\n",
       "      <td>5.7</td>\n",
       "      <td>10664.0</td>\n",
       "      <td>2007</td>\n",
       "    </tr>\n",
       "    <tr>\n",
       "      <th>68416</th>\n",
       "      <td>What Have You Done to Solange?</td>\n",
       "      <td>[Horror, Mystery, Thriller]</td>\n",
       "      <td>7.0</td>\n",
       "      <td>3883.0</td>\n",
       "      <td>1972</td>\n",
       "    </tr>\n",
       "    <tr>\n",
       "      <th>72195</th>\n",
       "      <td>Space Is the Place</td>\n",
       "      <td>[Music, Sci-Fi]</td>\n",
       "      <td>6.5</td>\n",
       "      <td>799.0</td>\n",
       "      <td>1974</td>\n",
       "    </tr>\n",
       "    <tr>\n",
       "      <th>879843</th>\n",
       "      <td>Katyn</td>\n",
       "      <td>[Drama, History, War]</td>\n",
       "      <td>7.0</td>\n",
       "      <td>14534.0</td>\n",
       "      <td>2007</td>\n",
       "    </tr>\n",
       "  </tbody>\n",
       "</table>\n",
       "</div>"
      ],
      "text/plain": [
       "                                       title                       genres  \\\n",
       "tconst                                                                      \n",
       "380726  Stara basn. Kiedy slonce bylo bogiem  [Adventure, Drama, History]   \n",
       "473356                             The Flock      [Crime, Drama, Mystery]   \n",
       "68416         What Have You Done to Solange?  [Horror, Mystery, Thriller]   \n",
       "72195                     Space Is the Place              [Music, Sci-Fi]   \n",
       "879843                                 Katyn        [Drama, History, War]   \n",
       "\n",
       "        rating  nratings  year  \n",
       "tconst                          \n",
       "380726     5.4    1095.0  2003  \n",
       "473356     5.7   10664.0  2007  \n",
       "68416      7.0    3883.0  1972  \n",
       "72195      6.5     799.0  1974  \n",
       "879843     7.0   14534.0  2007  "
      ]
     },
     "execution_count": 52,
     "metadata": {},
     "output_type": "execute_result"
    }
   ],
   "source": [
    "m = random_subset(reviewed_movies, seed=1)\n",
    "m[summary_cols]"
   ]
  },
  {
   "cell_type": "code",
   "execution_count": 53,
   "metadata": {},
   "outputs": [
    {
     "name": "stdout",
     "output_type": "stream",
     "text": [
      "Because you liked: Stara basn. Kiedy slonce bylo bogiem (2003)\n",
      "  1: Katyn (2007)                                           879843\n",
      "  2: Twin Falls Idaho (1999)                                162830\n",
      "  3: Cold Mountain (2003)                                   159365\n",
      "  4: Inglourious Basterds (2009)                            361748\n",
      "  5: Boys Don't Cry (2000)                                  238119\n",
      "  6: Who's Singin' Over There? (1980)                       76276\n",
      "  7: The Lord of the Rings: The Return of the King (2003)   167260\n",
      "  8: Landscape After Battle (1970)                          65948\n",
      "  9: Danton (1983)                                          83789\n",
      " 10: Troy (2004)                                            332452\n",
      "\n",
      "Because you liked: The Flock (2007)\n",
      "  1: Se7en (1995)                                           114369\n",
      "  2: Disturbia (2007)                                       486822\n",
      "  3: The Jackal (1997)                                      119395\n",
      "  4: Frequency (2000)                                       186151\n",
      "  5: Red Corner (1997)                                      119994\n",
      "  6: The Departed (2006)                                    407887\n",
      "  7: Oldboy (2003)                                          364569\n",
      "  8: In the Valley of Elah (2007)                           478134\n",
      "  9: Gangs of New York (2002)                               217505\n",
      " 10: The Black Dahlia (2006)                                387877\n",
      "\n",
      "Because you liked: What Have You Done to Solange? (1972)\n",
      "  1: Saw (2004)                                             387564\n",
      "  2: From Hell (2001)                                       120681\n",
      "  3: Identity (2003)                                        309698\n",
      "  4: The Messengers (2007)                                  425430\n",
      "  5: Angels & Demons (2009)                                 808151\n",
      "  6: The Grudge (2004)                                      391198\n",
      "  7: The House That Screamed (1969)                         64888\n",
      "  8: The Vanishing (1988)                                   96163\n",
      "  9: Creep (2004)                                           381966\n",
      " 10: The Da Vinci Code (2006)                               382625\n",
      "\n",
      "Because you liked: Space Is the Place (1974)\n",
      "  1: Sunshine (2007)                                        448134\n",
      "  2: 2001: A Space Odyssey (1968)                           62622\n",
      "  3: August Rush (2007)                                     426931\n",
      "  4: The Matrix Reloaded (2003)                             234215\n",
      "  5: The Prestige (2006)                                    482571\n",
      "  6: A Clockwork Orange (1971)                              66921\n",
      "  7: Journey to the Far Side of the Sun (1969)              64519\n",
      "  8: Dark City (1998)                                       118929\n",
      "  9: Deja Vu (2006)                                         453467\n",
      " 10: The Thing (1982)                                       84787\n",
      "\n",
      "Because you liked: Katyn (2007)\n",
      "  1: Enemy at the Gates (2001)                              215750\n",
      "  2: Black Hawk Down (2001)                                 265086\n",
      "  3: The Hurt Locker (2008)                                 887912\n",
      "  4: Grave of the Fireflies (1988)                          95327\n",
      "  5: Stalingrad (1993)                                      108211\n",
      "  6: The Ascent (1977)                                      75404\n",
      "  7: Inglourious Basterds (2009)                            361748\n",
      "  8: Danton (1983)                                          83789\n",
      "  9: The Grey Zone (2001)                                   252480\n",
      " 10: Battleship Potemkin (1925)                             15648\n",
      "\n"
     ]
    }
   ],
   "source": [
    "for tconst in m.index:\n",
    "    R.print_recommendations(tconst)\n",
    "    print()"
   ]
  },
  {
   "cell_type": "markdown",
   "metadata": {},
   "source": [
    "These seem mostly plausible to me based on what little I know or can quickly learn about the movies, but... ok, let's instead try some moderately but not extremely popular movies:"
   ]
  },
  {
   "cell_type": "code",
   "execution_count": 54,
   "metadata": {},
   "outputs": [
    {
     "data": {
      "text/html": [
       "<div>\n",
       "<style scoped>\n",
       "    .dataframe tbody tr th:only-of-type {\n",
       "        vertical-align: middle;\n",
       "    }\n",
       "\n",
       "    .dataframe tbody tr th {\n",
       "        vertical-align: top;\n",
       "    }\n",
       "\n",
       "    .dataframe thead th {\n",
       "        text-align: right;\n",
       "    }\n",
       "</style>\n",
       "<table border=\"1\" class=\"dataframe\">\n",
       "  <thead>\n",
       "    <tr style=\"text-align: right;\">\n",
       "      <th></th>\n",
       "      <th>title</th>\n",
       "      <th>genres</th>\n",
       "      <th>rating</th>\n",
       "      <th>nratings</th>\n",
       "      <th>year</th>\n",
       "    </tr>\n",
       "    <tr>\n",
       "      <th>tconst</th>\n",
       "      <th></th>\n",
       "      <th></th>\n",
       "      <th></th>\n",
       "      <th></th>\n",
       "      <th></th>\n",
       "    </tr>\n",
       "  </thead>\n",
       "  <tbody>\n",
       "    <tr>\n",
       "      <th>338095</th>\n",
       "      <td>High Tension</td>\n",
       "      <td>[Horror]</td>\n",
       "      <td>6.8</td>\n",
       "      <td>63617.0</td>\n",
       "      <td>2003</td>\n",
       "    </tr>\n",
       "    <tr>\n",
       "      <th>87803</th>\n",
       "      <td>1984</td>\n",
       "      <td>[Drama, Sci-Fi]</td>\n",
       "      <td>7.1</td>\n",
       "      <td>60848.0</td>\n",
       "      <td>1984</td>\n",
       "    </tr>\n",
       "    <tr>\n",
       "      <th>841046</th>\n",
       "      <td>Walk Hard: The Dewey Cox Story</td>\n",
       "      <td>[Comedy, Music]</td>\n",
       "      <td>6.8</td>\n",
       "      <td>63218.0</td>\n",
       "      <td>2007</td>\n",
       "    </tr>\n",
       "    <tr>\n",
       "      <th>120731</th>\n",
       "      <td>The Legend of 1900</td>\n",
       "      <td>[Drama, Music, Romance]</td>\n",
       "      <td>8.1</td>\n",
       "      <td>53010.0</td>\n",
       "      <td>1998</td>\n",
       "    </tr>\n",
       "    <tr>\n",
       "      <th>462465</th>\n",
       "      <td>Outlander</td>\n",
       "      <td>[Action, Adventure, Fantasy]</td>\n",
       "      <td>6.2</td>\n",
       "      <td>69226.0</td>\n",
       "      <td>2008</td>\n",
       "    </tr>\n",
       "  </tbody>\n",
       "</table>\n",
       "</div>"
      ],
      "text/plain": [
       "                                 title                        genres  rating  \\\n",
       "tconst                                                                         \n",
       "338095                    High Tension                      [Horror]     6.8   \n",
       "87803                             1984               [Drama, Sci-Fi]     7.1   \n",
       "841046  Walk Hard: The Dewey Cox Story               [Comedy, Music]     6.8   \n",
       "120731              The Legend of 1900       [Drama, Music, Romance]     8.1   \n",
       "462465                       Outlander  [Action, Adventure, Fantasy]     6.2   \n",
       "\n",
       "        nratings  year  \n",
       "tconst                  \n",
       "338095   63617.0  2003  \n",
       "87803    60848.0  1984  \n",
       "841046   63218.0  2007  \n",
       "120731   53010.0  1998  \n",
       "462465   69226.0  2008  "
      ]
     },
     "execution_count": 54,
     "metadata": {},
     "output_type": "execute_result"
    }
   ],
   "source": [
    "m = top_reviewed_movies.iloc[:500][-5:]\n",
    "m[summary_cols]"
   ]
  },
  {
   "cell_type": "code",
   "execution_count": 55,
   "metadata": {},
   "outputs": [
    {
     "name": "stdout",
     "output_type": "stream",
     "text": [
      "Because you liked: High Tension (2003)\n",
      "  1: The Texas Chain Saw Massacre (1974)                    72271\n",
      "  2: Hostel (2005)                                          450278\n",
      "  3: Saw (2004)                                             387564\n",
      "  4: The Ruins (2008)                                       963794\n",
      "  5: Cabin Fever (2002)                                     303816\n",
      "  6: Night of the Living Dead (1990)                        100258\n",
      "  7: House of 1000 Corpses (2003)                           251736\n",
      "  8: Unhinged (1982)                                        180274\n",
      "  9: Three... Extremes (2004)                               420251\n",
      " 10: The Shining (1980)                                     81505\n",
      "\n",
      "Because you liked: 1984 (1984)\n",
      "  1: The Prestige (2006)                                    482571\n",
      "  2: A Clockwork Orange (1971)                              66921\n",
      "  3: K-PAX (2001)                                           272152\n",
      "  4: Close Encounters of the Third Kind (1977)              75860\n",
      "  5: The Day the Earth Stood Still (2008)                   970416\n",
      "  6: Magnolia (1999)                                        175880\n",
      "  7: The Last Picture Show (1971)                           67328\n",
      "  8: Bicentennial Man (1999)                                182789\n",
      "  9: Distant (2002)                                         346094\n",
      " 10: The Lord of the Rings: The Return of the King (2003)   167260\n",
      "\n",
      "Because you liked: Walk Hard: The Dewey Cox Story (2007)\n",
      "  1: Step Brothers (2008)                                   838283\n",
      "  2: Human Traffic (1999)                                   188674\n",
      "  3: Tenacious D in The Pick of Destiny (2006)              365830\n",
      "  4: Scary Movie 2 (2001)                                   257106\n",
      "  5: You, the Living (2007)                                 445336\n",
      "  6: Accepted (2006)                                        384793\n",
      "  7: Coyote Ugly (2000)                                     200550\n",
      "  8: The 40-Year-Old Virgin (2005)                          405422\n",
      "  9: As It Is in Heaven (2004)                              382330\n",
      " 10: Scary Movie 4 (2006)                                   362120\n",
      "\n",
      "Because you liked: The Legend of 1900 (1998)\n",
      "  1: Good Will Hunting (1997)                               119217\n",
      "  2: Seven Pounds (2008)                                    814314\n",
      "  3: Titanic (1997)                                         120338\n",
      "  4: August Rush (2007)                                     426931\n",
      "  5: Days of Heaven (1978)                                  77405\n",
      "  6: The Best of Youth (2003)                               346336\n",
      "  7: Before Sunrise (1995)                                  112471\n",
      "  8: Dirty Dancing (1987)                                   92890\n",
      "  9: Life Is Beautiful (1997)                               118799\n",
      " 10: The Scent of Green Papaya (1993)                       107617\n",
      "\n",
      "Because you liked: Outlander (2008)\n",
      "  1: Avatar (2009)                                          499549\n",
      "  2: Star Wars: Episode II - Attack of the Clones (2002)    121765\n",
      "  3: Underworld: Rise of the Lycans (2009)                  834001\n",
      "  4: Hellboy II: The Golden Army (2008)                     411477\n",
      "  5: The Mummy Returns (2001)                               209163\n",
      "  6: Star Wars: Episode III - Revenge of the Sith (2005)    121766\n",
      "  7: Star Wars: Episode VI - Return of the Jedi (1983)      86190\n",
      "  8: Hellboy (2004)                                         167190\n",
      "  9: Stardust (2007)                                        486655\n",
      " 10: Apocalypto (2006)                                      472043\n",
      "\n"
     ]
    }
   ],
   "source": [
    "for tconst in m.index:\n",
    "    R.print_recommendations(tconst)\n",
    "    print()"
   ]
  },
  {
   "cell_type": "markdown",
   "metadata": {},
   "source": [
    "Here are the IMDb blurbs, manually pulled from IMDb, for these last 5 \"because you liked\" attempts:\n",
    "\n",
    "**High Tension (2003):** Best friends Marie and Alexia decide to spend a quiet weekend at Alexia's parents' secluded farmhouse. But on the night of their arrival, the girls' idyllic getaway turns into an endless night of horror. \n",
    "\n",
    "**1984 (1984):**  In a totalitarian future society, a man, whose daily work is re-writing history, tries to rebel by falling in love.\n",
    "\n",
    "**Walk Hard: The Dewey Cox Story (2007):** Singer Dewey Cox overcomes adversity to become a musical legend.  (We actually match with IMDb's recommendations of Step Brothers, Tenacious D and the Pick of Destiny, and The 40-Year-Old Virgin.)\n",
    "\n",
    "**The Legend of 1900 (1998):** A baby boy, discovered in 1900 on an ocean liner, grows into a musical prodigy, never setting foot on land.\n",
    "\n",
    "**Outlander (2008):** During the reign of the Vikings, Kainan, a man from a far-off world, crash lands on Earth, bringing with him an alien predator known as the Moorwen. Though both man and monster are seeking revenge for violence committed against them, Kainan leads the alliance to kill the Moorwen by fusing his advanced technology with the Viking's Iron Age weaponry."
   ]
  },
  {
   "cell_type": "markdown",
   "metadata": {},
   "source": [
    "The recommender is definitely picking up on _something_.  While there may still be some eyebrow-raisers in the lists, there are clear thematic similarities between the input movie and many of the recommendations.  We can see how horror, dystopia, and adult silliness are recognized and exploited in the recommendations."
   ]
  },
  {
   "cell_type": "markdown",
   "metadata": {},
   "source": [
    "We've weighted the recommender rather arbitrarily.  In a production setting, we would very obviously want to use information from users' past, and collect feedback as users interact with the system, in order to tune the weights as well as to include collaborative filtering and likely many additional models and heuristics."
   ]
  },
  {
   "cell_type": "markdown",
   "metadata": {},
   "source": [
    "So far, we haven't looked at any user data at all.  Let's give that a shot."
   ]
  },
  {
   "cell_type": "markdown",
   "metadata": {},
   "source": [
    "## MovieLens user data"
   ]
  },
  {
   "cell_type": "markdown",
   "metadata": {},
   "source": [
    "In order to make some quantitative statements about the performance of various possible recommendation strategies, we turn to data from MovieLens:"
   ]
  },
  {
   "cell_type": "code",
   "execution_count": 56,
   "metadata": {},
   "outputs": [],
   "source": [
    "ML20M_PATH = os.path.join(DATA_PATH, 'ml-20m')\n",
    "ml20m_ratings = pd.read_csv(os.path.join(ML20M_PATH, 'ratings.csv'))\n",
    "ml20m_links = pd.read_csv(os.path.join(ML20M_PATH, 'links.csv')).set_index('movieId')\n",
    "ml20m_links.rename(columns={'imdbId': 'imdb'}, inplace=True)\n",
    "ml20m_links.drop(columns=['tmdbId'], inplace=True)"
   ]
  },
  {
   "cell_type": "markdown",
   "metadata": {},
   "source": [
    "We'll load it up, and restrict the dataset to those covered by the IMDb metadata.  We'll also exclude the most popular movies, since we are trying to personalize here."
   ]
  },
  {
   "cell_type": "code",
   "execution_count": 57,
   "metadata": {},
   "outputs": [
    {
     "data": {
      "text/html": [
       "<div>\n",
       "<style scoped>\n",
       "    .dataframe tbody tr th:only-of-type {\n",
       "        vertical-align: middle;\n",
       "    }\n",
       "\n",
       "    .dataframe tbody tr th {\n",
       "        vertical-align: top;\n",
       "    }\n",
       "\n",
       "    .dataframe thead th {\n",
       "        text-align: right;\n",
       "    }\n",
       "</style>\n",
       "<table border=\"1\" class=\"dataframe\">\n",
       "  <thead>\n",
       "    <tr style=\"text-align: right;\">\n",
       "      <th></th>\n",
       "      <th>userId</th>\n",
       "      <th>movieId</th>\n",
       "      <th>rating</th>\n",
       "      <th>timestamp</th>\n",
       "      <th>imdb</th>\n",
       "    </tr>\n",
       "  </thead>\n",
       "  <tbody>\n",
       "    <tr>\n",
       "      <th>0</th>\n",
       "      <td>1</td>\n",
       "      <td>2</td>\n",
       "      <td>3.5</td>\n",
       "      <td>1112486027</td>\n",
       "      <td>113497</td>\n",
       "    </tr>\n",
       "    <tr>\n",
       "      <th>1</th>\n",
       "      <td>1</td>\n",
       "      <td>29</td>\n",
       "      <td>3.5</td>\n",
       "      <td>1112484676</td>\n",
       "      <td>112682</td>\n",
       "    </tr>\n",
       "    <tr>\n",
       "      <th>2</th>\n",
       "      <td>1</td>\n",
       "      <td>32</td>\n",
       "      <td>3.5</td>\n",
       "      <td>1112484819</td>\n",
       "      <td>114746</td>\n",
       "    </tr>\n",
       "  </tbody>\n",
       "</table>\n",
       "</div>"
      ],
      "text/plain": [
       "   userId  movieId  rating   timestamp    imdb\n",
       "0       1        2     3.5  1112486027  113497\n",
       "1       1       29     3.5  1112484676  112682\n",
       "2       1       32     3.5  1112484819  114746"
      ]
     },
     "execution_count": 57,
     "metadata": {},
     "output_type": "execute_result"
    }
   ],
   "source": [
    "ml20m = ml20m_ratings.join(ml20m_links, on='movieId')\n",
    "ml20m = ml20m.loc[np.in1d(ml20m.imdb.values, movies.index.values)]\n",
    "ml20m = ml20m.loc[~np.in1d(ml20m.imdb, top_movies.iloc[:50].index.values)]\n",
    "ml20m.head(3)"
   ]
  },
  {
   "cell_type": "markdown",
   "metadata": {},
   "source": [
    "The ratings in this dataset are distributed as follows:"
   ]
  },
  {
   "cell_type": "code",
   "execution_count": 58,
   "metadata": {},
   "outputs": [
    {
     "data": {
      "image/png": "[encoded data removed]",
      "text/plain": [
       "<Figure size 600x400 with 1 Axes>"
      ]
     },
     "metadata": {
      "needs_background": "light"
     },
     "output_type": "display_data"
    }
   ],
   "source": [
    "hl.plot1d(hl.hist(ml20m.rating, bins=np.r_[.25:5.26:.5]), crosses=True)\n",
    "plt.xlabel(r'rating')\n",
    "plt.ylabel(r'reviews per bin');"
   ]
  },
  {
   "cell_type": "markdown",
   "metadata": {},
   "source": [
    "There are (too small to see) $\\sqrt{N}$ errorbars on this plot!  So we can conclude with high confidence that the most likely rating is 4 (\"it was good but it wasn't _perfect_\") and that MovieLens users in general are generally disinclined to assign integer+plus+half ratings."
   ]
  },
  {
   "cell_type": "markdown",
   "metadata": {},
   "source": [
    "Next, we gather ratings by each individual user:"
   ]
  },
  {
   "cell_type": "code",
   "execution_count": 59,
   "metadata": {},
   "outputs": [],
   "source": [
    "# i bet there's a fancy pandas trick for this\n",
    "user_change_idx = np.r_[0, np.where(np.diff(ml20m.userId.values))[0] + 1]\n",
    "user_movies = np.array([\n",
    "    ml20m.movieId.values[i1:i2]\n",
    "    for (i1, i2) in zip(user_change_idx[:-1], user_change_idx[1:])\n",
    "])\n",
    "user_ratings = np.array([\n",
    "    ml20m.rating.values[i1:i2]\n",
    "    for (i1, i2) in zip(user_change_idx[:-1], user_change_idx[1:])\n",
    "])\n",
    "user_nratings = np.array([len(r) for r in user_ratings])"
   ]
  },
  {
   "cell_type": "markdown",
   "metadata": {},
   "source": [
    "That's sufficiently intense indexing work to warrant at least a spot check:"
   ]
  },
  {
   "cell_type": "code",
   "execution_count": 60,
   "metadata": {},
   "outputs": [
    {
     "name": "stdout",
     "output_type": "stream",
     "text": [
      "User 0\n",
      "[    2    29    32   112   151   223   253   337   367   541   653   919\n",
      "   924  1009  1036  1079  1080  1089  1090  1097  1136  1198  1200  1201\n",
      "  1208  1214  1215  1217  1219  1222  1240  1243  1246  1249  1258  1259\n",
      "  1261  1262  1266  1278  1291  1304  1321  1333  1348  1350  1358  1370\n",
      "  1374  1387  1525  1584  1750  1848  1920  1967  1994  1997  2021  2100\n",
      "  2118  2138  2140  2143  2173  2174  2193  2194  2253  2288  2291  2542\n",
      "  2628  2644  2648  2664  2683  2692  2716  2761  2762  2804  2872  2918\n",
      "  2944  2947  2968  3000  3030  3037  3081  3153  3265  3438  3476  3479\n",
      "  3489  3499  3889  3932  3996  3997  4011  4027  4105  4128  4133  4306\n",
      "  4446  4467  4571  4720  4754  4878  4896  4911  4915  4941  4980  5026\n",
      "  5039  5040  5146  5171  5540  5679  5797  5816  5898  5999  6093  6242\n",
      "  6333  6502  6754  6755  6774  6807  6834  6888  7001  7045  7046  7164\n",
      "  7247  7387  7389  7438  7449  7454  7482  7757  8368  8482  8507  8636\n",
      "  8690  8961 31696]\n",
      "[3.5 3.5 3.5 3.5 4.  4.  4.  3.5 3.5 4.  3.  3.5 3.5 3.5 4.  4.  3.5 3.5\n",
      " 4.  4.  3.5 4.5 4.  3.  3.5 4.  4.  3.5 4.  3.5 4.  3.  3.5 4.  4.  4.\n",
      " 3.5 3.5 4.  4.  3.5 3.  4.  4.  3.5 3.5 4.  3.  4.  4.  3.  3.5 3.5 3.5\n",
      " 3.5 4.  3.5 3.5 4.  4.  4.  4.  4.  4.  4.  4.  4.  3.5 3.5 4.  4.  4.\n",
      " 4.  3.5 3.5 3.5 3.5 3.5 3.5 3.  4.  3.5 4.  3.5 4.  3.5 4.  3.5 3.  3.5\n",
      " 4.  4.  3.5 3.5 3.5 4.  4.  4.  4.  3.  4.  3.5 4.  4.  3.5 4.  3.  4.\n",
      " 3.5 4.  4.  3.5 4.  3.5 4.  4.  3.  3.5 3.5 4.  4.  3.  3.5 4.  4.  3.5\n",
      " 4.  4.  3.5 3.5 4.  3.5 4.  3.5 4.  3.5 4.  3.5 3.5 3.  3.5 3.5 4.  3.5\n",
      " 3.5 3.5 4.  4.  3.5 4.  3.  4.  4.  3.5 5.  4.5 3.5 4.  4. ]\n",
      "User 1\n",
      "[   3   62   70  242  266  469  480  541  891  908  924 1121 1214 1249\n",
      " 1259 1327 1356 1544 1580 1673 1748 1965 1969 1970 1971 1972 1973 1974\n",
      " 1986 2291 2454 2455 2791 2948 2951 3150 3159 3173 3450 3513 3534 3555\n",
      " 3565 3703 3753 3917 3918 3923 3926 3927 3928 3930 3937 3959]\n",
      "[4. 5. 5. 3. 5. 3. 5. 5. 2. 4. 5. 3. 5. 5. 5. 5. 5. 5. 4. 4. 5. 3. 2. 2.\n",
      " 2. 2. 3. 5. 2. 2. 4. 4. 2. 5. 4. 4. 3. 4. 5. 5. 3. 4. 3. 4. 4. 4. 3. 4.\n",
      " 4. 5. 5. 5. 4. 5.]\n"
     ]
    }
   ],
   "source": [
    "print('User 0')\n",
    "print(user_movies[0])\n",
    "print(user_ratings[0])\n",
    "print('User 1')\n",
    "print(user_movies[1])\n",
    "print(user_ratings[1])"
   ]
  },
  {
   "cell_type": "markdown",
   "metadata": {},
   "source": [
    "When this kind of indexing is wrong, weird out-of-order indices show up at the boundaries.\n",
    "\n",
    "Unsurprisingly, a small number of ratings per user is most common, but there is a long tail towards very large numbers of ratings:"
   ]
  },
  {
   "cell_type": "code",
   "execution_count": 61,
   "metadata": {},
   "outputs": [
    {
     "data": {
      "image/png": "[encoded data removed]",
      "text/plain": [
       "<Figure size 600x400 with 1 Axes>"
      ]
     },
     "metadata": {
      "needs_background": "light"
     },
     "output_type": "display_data"
    }
   ],
   "source": [
    "hl.plot1d(hl.hist(user_nratings, bins=100), crosses=True)\n",
    "plt.semilogy()\n",
    "plt.xlabel('number of ratings')\n",
    "plt.ylabel('users per bin');"
   ]
  },
  {
   "cell_type": "markdown",
   "metadata": {},
   "source": [
    "Let's check how individual users' ratings are distributed:"
   ]
  },
  {
   "cell_type": "code",
   "execution_count": 62,
   "metadata": {},
   "outputs": [
    {
     "data": {
      "image/png": "[encoded data removed]",
      "text/plain": [
       "<Figure size 600x400 with 1 Axes>"
      ]
     },
     "metadata": {
      "needs_background": "light"
     },
     "output_type": "display_data"
    }
   ],
   "source": [
    "ml_rating_bins = np.r_[.125:5.26:.25]\n",
    "# having seen that errorbars are miniscule here, we revert to ordinary matplotlib hists\n",
    "plt.hist(list(map(np.mean, user_ratings)), bins=ml_rating_bins, label='mean', alpha=.66)\n",
    "plt.hist(list(map(np.median, user_ratings)), bins=ml_rating_bins, label='median', alpha=.33)\n",
    "plt.xlabel('per-user central tendency of rating')\n",
    "plt.ylabel('users per bin')\n",
    "plt.legend(loc='best');"
   ]
  },
  {
   "cell_type": "code",
   "execution_count": 63,
   "metadata": {
    "scrolled": false
   },
   "outputs": [
    {
     "data": {
      "image/png": "[encoded data removed]",
      "text/plain": [
       "<Figure size 600x400 with 1 Axes>"
      ]
     },
     "metadata": {
      "needs_background": "light"
     },
     "output_type": "display_data"
    }
   ],
   "source": [
    "plt.hist(list(map(np.std, user_ratings)), bins=100)\n",
    "plt.xlabel(r'per-user standard deviation')\n",
    "plt.ylabel(r'users per bin');"
   ]
  },
  {
   "cell_type": "markdown",
   "metadata": {},
   "source": [
    "Do MovieLens users' ratings correlate with IMDb's?"
   ]
  },
  {
   "cell_type": "code",
   "execution_count": 64,
   "metadata": {},
   "outputs": [],
   "source": [
    "# i bet there's a fancy pandas trick for this too\n",
    "ml20m_sortby_imdb = ml20m.sort_values('imdb')\n",
    "\n",
    "movie_change_idx = np.r_[\n",
    "    0,\n",
    "    np.where(np.diff(ml20m_sortby_imdb.imdb.values))[0] + 1,\n",
    "    len(ml20m_sortby_imdb)\n",
    "]\n",
    "ml_rating = np.array([\n",
    "    np.mean(ml20m_sortby_imdb.rating.values[i1:i2])\n",
    "    for (i1, i2) in zip(movie_change_idx[:-1], movie_change_idx[1:])\n",
    "])\n",
    "\n",
    "tconst_in_both = np.unique(ml20m.imdb)\n",
    "imdb_rating = movies.loc[tconst_in_both].rating.values"
   ]
  },
  {
   "cell_type": "code",
   "execution_count": 65,
   "metadata": {},
   "outputs": [
    {
     "data": {
      "image/png": "[encoded data removed]",
      "text/plain": [
       "<Figure size 500x500 with 1 Axes>"
      ]
     },
     "metadata": {
      "needs_background": "light"
     },
     "output_type": "display_data"
    }
   ],
   "source": [
    "fig, ax = plt.subplots(figsize=(5,5))\n",
    "mask = np.isfinite(imdb_rating * ml_rating)\n",
    "h = hl.kde((imdb_rating[mask], 2*ml_rating[mask]), range=(1,10))\n",
    "hl.plot2d(h)\n",
    "ax.set_xlabel('IMDb rating (mean)')\n",
    "ax.set_ylabel(r'2 $\\times$ MovieLens rating (mean)')\n",
    "ax.plot([1, 10], [1, 10], 'w--', lw=.5);"
   ]
  },
  {
   "cell_type": "markdown",
   "metadata": {},
   "source": [
    "## Quantifying recommender performance"
   ]
  },
  {
   "cell_type": "markdown",
   "metadata": {},
   "source": [
    "We need an operational definition for what it means for a user to like a movie.  The rating distributions are fairly tight, so this is tricky.  For now let's try \"a user rates a movie higher than their own mean rating\"."
   ]
  },
  {
   "cell_type": "code",
   "execution_count": 66,
   "metadata": {},
   "outputs": [],
   "source": [
    "user_movies_liked = np.array([\n",
    "    m[r > r.mean()]\n",
    "    for (m, r) in zip(user_movies, user_ratings)\n",
    "])"
   ]
  },
  {
   "cell_type": "markdown",
   "metadata": {},
   "source": [
    "For testing, we'll consider a subset of users who rated around 300 movies (this gives us a decent compute time / statistics tradeoff given single-thread operation and code that hasn't been deliberately optimized for speed)."
   ]
  },
  {
   "cell_type": "code",
   "execution_count": 67,
   "metadata": {},
   "outputs": [
    {
     "data": {
      "text/plain": [
       "723"
      ]
     },
     "execution_count": 67,
     "metadata": {},
     "output_type": "execute_result"
    }
   ],
   "source": [
    "considered_user_index = np.where((295 <= user_nratings) & (user_nratings <= 305))[0]\n",
    "considered_user_index.size"
   ]
  },
  {
   "cell_type": "markdown",
   "metadata": {},
   "source": [
    "We'll take our performance metric to be MAP@k.  A reference implementation is found in this [ml_metrics](https://github.com/benhamner/Metrics/blob/master/Python/ml_metrics/average_precision.py) package; it looks like so:"
   ]
  },
  {
   "cell_type": "code",
   "execution_count": 68,
   "metadata": {},
   "outputs": [],
   "source": [
    "def apk(actual, predicted, k=10):\n",
    "    \"\"\"Compute the average precision at k.\n",
    "    \n",
    "    From: https://github.com/benhamner/Metrics/blob/master/Python/ml_metrics/average_precision.py\n",
    "    \"\"\"\n",
    "    if len(predicted)>k:\n",
    "        predicted = predicted[:k]\n",
    "\n",
    "    score = 0.0\n",
    "    num_hits = 0.0\n",
    "\n",
    "    for i,p in enumerate(predicted):\n",
    "        if p in actual and p not in predicted[:i]:\n",
    "            num_hits += 1.0\n",
    "            score += num_hits / (i+1.0)\n",
    "\n",
    "    if not actual.size:\n",
    "        return 0.0\n",
    "\n",
    "    return score / min(len(actual), k)"
   ]
  },
  {
   "cell_type": "markdown",
   "metadata": {},
   "source": [
    "This helper function will get the recommendation list and evaluate AP@k for a given user's list of likes:"
   ]
  },
  {
   "cell_type": "code",
   "execution_count": 69,
   "metadata": {},
   "outputs": [],
   "source": [
    "def get_user_apk(recommender, user_likes, k=100):\n",
    "    \"\"\"Predict based on even elements, test AP@k on odd elements.\"\"\"\n",
    "    imdb_user_likes = ml20m_links.loc[user_likes].imdb.values\n",
    "    predicted = recommender.get_recommendations(imdb_user_likes[::2], N=k)[0]\n",
    "    actual = imdb_user_likes[1::2]\n",
    "    return apk(actual, predicted, k=k)"
   ]
  },
  {
   "cell_type": "markdown",
   "metadata": {},
   "source": [
    "We'll define a set of similarity models that only recommend movies \"liked\" by _at least one user_:"
   ]
  },
  {
   "cell_type": "code",
   "execution_count": 70,
   "metadata": {},
   "outputs": [
    {
     "name": "stdout",
     "output_type": "stream",
     "text": [
      "== Fitting people ===\n",
      "Building feature arrays...\n",
      "Building sparse feature matrix...\n",
      "Computing similarity matrix...\n",
      "== Fitting genre ===\n",
      "== Fitting popularity ===\n",
      "== Fitting reviews ===\n"
     ]
    }
   ],
   "source": [
    "all_liked_tconst = ml20m_links.loc[np.unique(np.concatenate(user_movies_liked))].imdb.values\n",
    "liked_movies = movies.loc[all_liked_tconst]\n",
    "\n",
    "models = models_liked = {}\n",
    "models['people'] = PeopleSimilarity()\n",
    "models['genre'] = GenreSimilarity()\n",
    "models['popularity'] = RatingSimilarity(popularity_only=True)\n",
    "models['reviews'] = ReviewSimilarity() # can only help for movies that were reviewed\n",
    "\n",
    "for (label, model) in models.items():\n",
    "    prush(f'== Fitting {label} ===')\n",
    "    model.fit(liked_movies)"
   ]
  },
  {
   "cell_type": "markdown",
   "metadata": {},
   "source": [
    "... and we'll set up some recommenders, once again with arbitrary per-similarity-model weights:"
   ]
  },
  {
   "cell_type": "code",
   "execution_count": 71,
   "metadata": {},
   "outputs": [],
   "source": [
    "models = models_liked\n",
    "\n",
    "# not shown: hand-tuning weights\n",
    "# like brute force but less reliable...\n",
    "# also, note: specified weights need not sum to 1\n",
    "recommenders = {\n",
    "    'popularity': Recommender(\n",
    "        liked_movies, models['popularity']),\n",
    "    'popularity_people_genre': Recommender(\n",
    "        liked_movies, [models['people'], models['genre'], models['popularity']],\n",
    "        [.25, .05, .7]),\n",
    "    'popularity_people_review_genre': Recommender(\n",
    "        liked_movies, [models['people'], models['reviews'], models['genre'], models['popularity']],\n",
    "        [.25, .25, .05, .7]),\n",
    "}"
   ]
  },
  {
   "cell_type": "markdown",
   "metadata": {},
   "source": [
    "Finally, we run a performance comparison based on these recommender variants:"
   ]
  },
  {
   "cell_type": "code",
   "execution_count": 72,
   "metadata": {},
   "outputs": [
    {
     "name": "stdout",
     "output_type": "stream",
     "text": [
      "Recommender: \"popularity\"\n",
      "  722 ...\n",
      "Recommender: \"popularity_people_genre\"\n",
      "  722 ...\n",
      "Recommender: \"popularity_people_review_genre\"\n",
      "  722 ...\n",
      "end scoring: 0:03:03.769233 elapsed\n"
     ]
    }
   ],
   "source": [
    "now = datetime.datetime.now\n",
    "t0 = now()\n",
    "user_apks = {k: [] for k in recommenders}\n",
    "for key in recommenders:\n",
    "    prush('Recommender: \"{}\"'.format(key))\n",
    "    for (ii,i) in enumerate(considered_user_index):\n",
    "        if not ii % 25:\n",
    "            prush(f'\\r{ii:5d} ...', end='')\n",
    "        user_likes = user_movies_liked[i]\n",
    "        user_apks[key].append(get_user_apk(recommenders[key], user_likes))\n",
    "    user_apks[key] = np.array(user_apks[key])\n",
    "    prush(f'\\r{ii:5d} ...')\n",
    "print('end scoring: {} elapsed'.format(now() - t0))"
   ]
  },
  {
   "cell_type": "code",
   "execution_count": 73,
   "metadata": {},
   "outputs": [
    {
     "name": "stdout",
     "output_type": "stream",
     "text": [
      "                                        popularity:  2.5021 %  (mean)\n",
      "                           popularity_people_genre:  2.5470 %  (mean)\n",
      "                    popularity_people_review_genre:  2.5747 %  (mean)\n",
      "\n",
      "                                        popularity:  1.8266 %  (median)\n",
      "                           popularity_people_genre:  1.9734 %  (median)\n",
      "                    popularity_people_review_genre:  2.0641 %  (median)\n"
     ]
    }
   ],
   "source": [
    "### @k=100, most popular 50 movies removed, only \"likeable\" movies included\n",
    "for (k,v) in user_apks.items():\n",
    "    print(f'{k:>50s}: {100*np.mean(v):7.4f} %  (mean)')\n",
    "print()\n",
    "for (k,v) in user_apks.items():\n",
    "    print(f'{k:>50s}: {100*np.median(v):7.4f} %  (median)')"
   ]
  },
  {
   "cell_type": "markdown",
   "metadata": {},
   "source": [
    "I'm not personally accustomed to looking at such small values for precision, but it is encouraging that even without taking care to optimize the per-similarity-model weights, we find consistent improvements by adding info about people/genre/reviews for both `mean` and `median` benchmarks.  The percent improvement is:"
   ]
  },
  {
   "cell_type": "code",
   "execution_count": 74,
   "metadata": {},
   "outputs": [
    {
     "name": "stdout",
     "output_type": "stream",
     "text": [
      "         popularity_people_genre / popularity-only: + 1.7929 %  (mean)\n",
      "  popularity_people_review_genre / popularity-only: + 2.9002 %  (mean)\n",
      "\n",
      "         popularity_people_genre / popularity-only: + 8.0380 %  (median)\n",
      "  popularity_people_review_genre / popularity-only: +13.0061 %  (median)\n"
     ]
    }
   ],
   "source": [
    "v0 = np.mean(user_apks['popularity'])\n",
    "for (k,v) in user_apks.items():\n",
    "    if k == 'popularity':\n",
    "        continue\n",
    "    krat = f'{k} / popularity-only'\n",
    "    print(f'{krat:>50s}: +{100*np.mean(v)/v0-100:7.4f} %  (mean)')\n",
    "print()\n",
    "v0 = np.median(user_apks['popularity'])\n",
    "for (k,v) in user_apks.items():\n",
    "    if k == 'popularity':\n",
    "        continue\n",
    "    krat = f'{k} / popularity-only'\n",
    "    print(f'{krat:>50s}: +{100*np.median(v)/v0-100:7.4f} %  (median)')"
   ]
  },
  {
   "cell_type": "markdown",
   "metadata": {},
   "source": [
    "## Collaborative filtering"
   ]
  },
  {
   "cell_type": "markdown",
   "metadata": {},
   "source": [
    "We originally set out to use the MovieLens dataset to quantify the performance of IMDb-data-based recommenders.  However, we now have lots of information about who likes what; we owe it to ourselves to see whether this can be used to produce recommendations."
   ]
  },
  {
   "cell_type": "markdown",
   "metadata": {},
   "source": [
    "First, we take note of who liked which movies:"
   ]
  },
  {
   "cell_type": "code",
   "execution_count": 75,
   "metadata": {},
   "outputs": [
    {
     "name": "stdout",
     "output_type": "stream",
     "text": [
      "Checking who liked what...\n",
      "138491 ...\n"
     ]
    }
   ],
   "source": [
    "liked_tconsts = defaultdict(list)\n",
    "prush('Checking who liked what...')\n",
    "for (i_user, user_likes) in enumerate(user_movies_liked):\n",
    "    if not i_user % 10000:\n",
    "        prush(f'\\r{i_user} ...', end='')\n",
    "    tconsts = ml20m_links.loc[user_likes].imdb.values\n",
    "    for tconst in tconsts:\n",
    "        liked_tconsts[tconst].append(i_user)\n",
    "prush(f'\\r{i_user} ...')"
   ]
  },
  {
   "cell_type": "code",
   "execution_count": 76,
   "metadata": {},
   "outputs": [],
   "source": [
    "liked_movies['liked_by'] = [liked_tconsts[tconst] for tconst in liked_movies.index.values]"
   ]
  },
  {
   "cell_type": "markdown",
   "metadata": {},
   "source": [
    "We model this with a new `PeopleSimilarity` model, customized to examine the 'liked_by' column."
   ]
  },
  {
   "cell_type": "code",
   "execution_count": 77,
   "metadata": {},
   "outputs": [
    {
     "name": "stdout",
     "output_type": "stream",
     "text": [
      "Building feature arrays...\n",
      "Building sparse feature matrix...\n",
      "Computing similarity matrix...\n"
     ]
    }
   ],
   "source": [
    "model_liked_by = PeopleSimilarity(column='liked_by')\n",
    "model_liked_by.fit(liked_movies)"
   ]
  },
  {
   "cell_type": "markdown",
   "metadata": {},
   "source": [
    "Here's a recommender similar to the above, but emphasizing community correlations over specific actors (and discarding the relatively sparse movie review data):"
   ]
  },
  {
   "cell_type": "code",
   "execution_count": 78,
   "metadata": {},
   "outputs": [],
   "source": [
    "RR = Recommender(\n",
    "    liked_movies,\n",
    "    [model_liked_by, models['people'], models['genre'], models['popularity']],\n",
    "        [.25, .1, .05, .6])"
   ]
  },
  {
   "cell_type": "markdown",
   "metadata": {},
   "source": [
    "The most popular movies that satisfy our \"liked\" criteria are:"
   ]
  },
  {
   "cell_type": "code",
   "execution_count": 79,
   "metadata": {},
   "outputs": [
    {
     "data": {
      "text/html": [
       "<div>\n",
       "<style scoped>\n",
       "    .dataframe tbody tr th:only-of-type {\n",
       "        vertical-align: middle;\n",
       "    }\n",
       "\n",
       "    .dataframe tbody tr th {\n",
       "        vertical-align: top;\n",
       "    }\n",
       "\n",
       "    .dataframe thead th {\n",
       "        text-align: right;\n",
       "    }\n",
       "</style>\n",
       "<table border=\"1\" class=\"dataframe\">\n",
       "  <thead>\n",
       "    <tr style=\"text-align: right;\">\n",
       "      <th></th>\n",
       "      <th>title</th>\n",
       "      <th>genres</th>\n",
       "      <th>rating</th>\n",
       "      <th>nratings</th>\n",
       "      <th>year</th>\n",
       "      <th>liked_by</th>\n",
       "    </tr>\n",
       "    <tr>\n",
       "      <th>tconst</th>\n",
       "      <th></th>\n",
       "      <th></th>\n",
       "      <th></th>\n",
       "      <th></th>\n",
       "      <th></th>\n",
       "      <th></th>\n",
       "    </tr>\n",
       "  </thead>\n",
       "  <tbody>\n",
       "    <tr>\n",
       "      <th>1049413</th>\n",
       "      <td>Up</td>\n",
       "      <td>[Adventure, Animation, Comedy]</td>\n",
       "      <td>8.2</td>\n",
       "      <td>859985.0</td>\n",
       "      <td>2009</td>\n",
       "      <td>[81, 95, 128, 130, 132, 135, 207, 208, 212, 23...</td>\n",
       "    </tr>\n",
       "    <tr>\n",
       "      <th>105236</th>\n",
       "      <td>Reservoir Dogs</td>\n",
       "      <td>[Crime, Drama, Thriller]</td>\n",
       "      <td>8.3</td>\n",
       "      <td>842826.0</td>\n",
       "      <td>1992</td>\n",
       "      <td>[2, 20, 21, 22, 23, 34, 47, 50, 53, 55, 57, 60...</td>\n",
       "    </tr>\n",
       "    <tr>\n",
       "      <th>371746</th>\n",
       "      <td>Iron Man</td>\n",
       "      <td>[Action, Adventure, Sci-Fi]</td>\n",
       "      <td>7.9</td>\n",
       "      <td>879242.0</td>\n",
       "      <td>2008</td>\n",
       "      <td>[10, 30, 95, 106, 132, 135, 161, 162, 197, 238...</td>\n",
       "    </tr>\n",
       "    <tr>\n",
       "      <th>338013</th>\n",
       "      <td>Eternal Sunshine of the Spotless Mind</td>\n",
       "      <td>[Drama, Romance, Sci-Fi]</td>\n",
       "      <td>8.3</td>\n",
       "      <td>836400.0</td>\n",
       "      <td>2004</td>\n",
       "      <td>[10, 17, 34, 41, 49, 57, 60, 64, 90, 95, 98, 1...</td>\n",
       "    </tr>\n",
       "    <tr>\n",
       "      <th>82971</th>\n",
       "      <td>Raiders of the Lost Ark</td>\n",
       "      <td>[Action, Adventure]</td>\n",
       "      <td>8.4</td>\n",
       "      <td>824166.0</td>\n",
       "      <td>1981</td>\n",
       "      <td>[0, 2, 4, 9, 10, 41, 42, 43, 47, 48, 50, 53, 5...</td>\n",
       "    </tr>\n",
       "  </tbody>\n",
       "</table>\n",
       "</div>"
      ],
      "text/plain": [
       "                                         title  \\\n",
       "tconst                                           \n",
       "1049413                                     Up   \n",
       "105236                          Reservoir Dogs   \n",
       "371746                                Iron Man   \n",
       "338013   Eternal Sunshine of the Spotless Mind   \n",
       "82971                  Raiders of the Lost Ark   \n",
       "\n",
       "                                 genres  rating  nratings  year  \\\n",
       "tconst                                                            \n",
       "1049413  [Adventure, Animation, Comedy]     8.2  859985.0  2009   \n",
       "105236         [Crime, Drama, Thriller]     8.3  842826.0  1992   \n",
       "371746      [Action, Adventure, Sci-Fi]     7.9  879242.0  2008   \n",
       "338013         [Drama, Romance, Sci-Fi]     8.3  836400.0  2004   \n",
       "82971               [Action, Adventure]     8.4  824166.0  1981   \n",
       "\n",
       "                                                  liked_by  \n",
       "tconst                                                      \n",
       "1049413  [81, 95, 128, 130, 132, 135, 207, 208, 212, 23...  \n",
       "105236   [2, 20, 21, 22, 23, 34, 47, 50, 53, 55, 57, 60...  \n",
       "371746   [10, 30, 95, 106, 132, 135, 161, 162, 197, 238...  \n",
       "338013   [10, 17, 34, 41, 49, 57, 60, 64, 90, 95, 98, 1...  \n",
       "82971    [0, 2, 4, 9, 10, 41, 42, 43, 47, 48, 50, 53, 5...  "
      ]
     },
     "execution_count": 79,
     "metadata": {},
     "output_type": "execute_result"
    }
   ],
   "source": [
    "liked_movies.sort_values('total_love', ascending=False).head()[summary_cols + ['liked_by']]"
   ]
  },
  {
   "cell_type": "markdown",
   "metadata": {},
   "source": [
    "Of these, my personal favorite is _Eternal Sunshine of the Spotless Mind_, so let's see what else I might like:"
   ]
  },
  {
   "cell_type": "code",
   "execution_count": 80,
   "metadata": {},
   "outputs": [
    {
     "name": "stdout",
     "output_type": "stream",
     "text": [
      "Because you liked: Eternal Sunshine of the Spotless Mind (2004)\n",
      "  1: The Truman Show (1998)                                 120382\n",
      "  2: 12 Angry Men (1957)                                    50083\n",
      "  3: Good Will Hunting (1997)                               119217\n",
      "  4: Life Is Beautiful (1997)                               118799\n",
      "  5: A Clockwork Orange (1971)                              66921\n",
      "  6: City of God (2002)                                     317248\n",
      "  7: The Shining (1980)                                     81505\n",
      "  8: Casablanca (1942)                                      34583\n",
      "  9: Requiem for a Dream (2000)                             180093\n",
      " 10: Slumdog Millionaire (2008)                             1010048\n"
     ]
    }
   ],
   "source": [
    "RR.print_recommendations('eternal sunshine of the spotless mind')"
   ]
  },
  {
   "cell_type": "markdown",
   "metadata": {},
   "source": [
    "This seems promising.  Let's add it to the basket and repeat the MAP@k test:"
   ]
  },
  {
   "cell_type": "code",
   "execution_count": 81,
   "metadata": {},
   "outputs": [],
   "source": [
    "recommenders_inc_collab = {}\n",
    "recommenders_inc_collab.update(recommenders)\n",
    "recommenders_inc_collab['users_popularity_people_genre'] = RR"
   ]
  },
  {
   "cell_type": "code",
   "execution_count": 82,
   "metadata": {},
   "outputs": [
    {
     "name": "stdout",
     "output_type": "stream",
     "text": [
      "Recommender: \"users_popularity_people_genre\"\n",
      "  722 ...\n",
      "end scoring: 0:00:16.302124 elapsed\n"
     ]
    }
   ],
   "source": [
    "now = datetime.datetime.now\n",
    "t0 = now()\n",
    "uapks = user_apks_inc_collab = {}\n",
    "uapks.update(user_apks)\n",
    "recs = recommenders_inc_collab\n",
    "for key in recs:\n",
    "    if key in user_apks_inc_collab:\n",
    "        continue\n",
    "    else:\n",
    "        user_apks_inc_collab[key] = []\n",
    "    prush('Recommender: \"{}\"'.format(key))\n",
    "    for (ii,i) in enumerate(considered_user_index):\n",
    "        if not ii % 25:\n",
    "            prush(f'\\r{ii:5d} ...', end='')\n",
    "        user_likes = user_movies_liked[i]\n",
    "        uapks[key].append(get_user_apk(recs[key], user_likes))\n",
    "    uapks[key] = np.array(uapks[key])\n",
    "    prush(f'\\r{ii:5d} ...')\n",
    "print('end scoring: {} elapsed'.format(now() - t0))"
   ]
  },
  {
   "cell_type": "code",
   "execution_count": 83,
   "metadata": {},
   "outputs": [
    {
     "name": "stdout",
     "output_type": "stream",
     "text": [
      "                                        popularity:  2.5021 %  (mean)\n",
      "                           popularity_people_genre:  2.5470 %  (mean)\n",
      "                    popularity_people_review_genre:  2.5747 %  (mean)\n",
      "                     users_popularity_people_genre:  2.5407 %  (mean)\n",
      "\n",
      "                                        popularity:  1.8266 %  (median)\n",
      "                           popularity_people_genre:  1.9734 %  (median)\n",
      "                    popularity_people_review_genre:  2.0641 %  (median)\n",
      "                     users_popularity_people_genre:  2.0154 %  (median)\n"
     ]
    }
   ],
   "source": [
    "### @k=100, most popular 50 movies removed, only \"likeable\" movies included\n",
    "uapks = user_apks_inc_collab\n",
    "for (k,v) in uapks.items():\n",
    "    print(f'{k:>50s}: {100*np.mean(v):7.4f} %  (mean)')\n",
    "print()\n",
    "for (k,v) in uapks.items():\n",
    "    print(f'{k:>50s}: {100*np.median(v):7.4f} %  (median)')"
   ]
  },
  {
   "cell_type": "markdown",
   "metadata": {},
   "source": [
    "Well, even with the best weighting I've been able to find so far by hand, it seems it's still (arguably) better to use review information than \"other users liked\", as formulated here.  Still, it is good to see that at least for median, if not mean AP@k, including \"other users liked\" does seem like it might be adding useable information."
   ]
  },
  {
   "cell_type": "markdown",
   "metadata": {},
   "source": [
    "## Conclusions"
   ]
  },
  {
   "cell_type": "markdown",
   "metadata": {},
   "source": [
    "We've seen that we can come up with plausibly good movie recommendations based on criteria such as:\n",
    "\n",
    "* Who made it?\n",
    "* What genre(s) are covered?\n",
    "* What words are used in the reviews?\n",
    "* How popular is it?\n",
    "* Who else liked it?\n",
    "\n",
    "In particular, we've shown that even in a test that seems to favor \"just show me whatever is popular\", we can improve with customization based on other information.\n",
    "\n",
    "We've quantified performance using MAP@k, which strongly rewards not just identifying some additional liked/likeable items, but ranking such items highly.  In an environment where that is what we care about and the metric is appropriate, it would be worth digging into what results in false positives receiving high rankings and studying how to reject them.\n",
    "\n",
    "There are virtually endless ways to extend this work.  There's a reason Netflix offered a large prize to anyone who could make even a modest improvement to their recommendation algorithm!  Of course, there's also a reason that they only partially implemented winning ideas — mainly complexity and computational performance, if I understand correctly.\n",
    "\n",
    "In a production system, many improvements would be both possible and desireable.  Perhaps the most obvious is that ideally we would analyze plot synopses instead of, or in addition to, reviews.\n",
    "\n",
    "We would also be very interested in more fine-grained user data.  Rating scales give noisy feedback because we don't all read them the same way.  They also introduce bias because we aren't all equally likely to volunteer ratings.  If we were in control of the system (as are cable companies, Netflix, YouTube, etc.) then we could give recommendations and then constantly measure the resulting user behavior (number of clicks, time spent following up on recommendations, etc.).\n",
    "\n",
    "More sophisticated — and computationally performant — methods would be required to handle so much data.  One way to start would be to perform clustering analysis in the various relevant high-dimensional vector spaces.  Then recommendations would proceed only within relevant clusters.  Recommendations from each cluster could be computed in parallel and then merged based on overall relevance ranking.  This sort of pre-clustering would also naturally accomodate more complex user profiles, as opposed to the simple approach taken here of simply averaging over all known-liked item vectors on a per-criterion (people/genre/reviews/etc.) basis.  Of course, it would also be also possible to treat each criterion in parallel."
   ]
  },
  {
   "cell_type": "markdown",
   "metadata": {},
   "source": [
    "With or without additional user feedback, a crucial question remains: how can we really tell whether a user liked something?  Is there even a single optimal definition?  Furthermore, here we've only considered M (mean or median) AP@k, but other metrics (e.g. DCG: discounted cumulative gain) can be used.  It may be that the best results would be obtained by considering a whole spectrum of operational definitions for both recommendation relevance and performance metric."
   ]
  },
  {
   "cell_type": "markdown",
   "metadata": {},
   "source": [
    "For me personally, this is my first experience with implementing recommendations.  I intend to try using it for its nominally intended purpose.  One feature available in a home-grown solution like this is that I can explicitly decide how much weight to give to aspects such as popularity, cast, genre, topics covered, and probability that \"people like me\" also like something.  I wish more online tools would allow users to opt into such customization!  "
   ]
  }
 ],
 "metadata": {
  "kernelspec": {
   "display_name": "Python 3",
   "language": "python",
   "name": "python3"
  },
  "language_info": {
   "codemirror_mode": {
    "name": "ipython",
    "version": 3
   },
   "file_extension": ".py",
   "mimetype": "text/x-python",
   "name": "python",
   "nbconvert_exporter": "python",
   "pygments_lexer": "ipython3",
   "version": "3.6.8"
  }
 },
 "nbformat": 4,
 "nbformat_minor": 2
}
